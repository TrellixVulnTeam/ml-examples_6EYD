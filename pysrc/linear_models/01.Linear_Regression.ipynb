{
 "cells": [
  {
   "cell_type": "markdown",
   "metadata": {},
   "source": [
    "# Linear basis function regression\n",
    "In this note, we consider the simplest form of linear regression models where $h(\\pmb{\\mathrm{x}})$ is a linear function of the input variables\n",
    "$$\n",
    "y(\\pmb{\\mathrm{x}},\\pmb{\\mathrm{w}}) = w_0 + w_1 x_1 + \\ldots + w_D x_D\n",
    "$$\n",
    "To make our problem more concrete, we consider the [boston housing data](https://archive.ics.uci.edu/ml/datasets/Housing). Go through this exercise, we will learn the following\n",
    "* get the raw data and preprocess it to a convenient form\n",
    "* visualize the data via plot\n",
    "* formulate the maximum likelihood => least squares problem\n",
    "* solve least square problem with Gradient Descend/Stochastic Gradient Descend\n",
    "* try it in [TensorFlow](https://www.tensorflow.org/)\n",
    "\n",
    "Let's get started\n",
    "\n",
    "## Get the data"
   ]
  },
  {
   "cell_type": "code",
   "execution_count": 1,
   "metadata": {
    "collapsed": false
   },
   "outputs": [
    {
     "name": "stdout",
     "output_type": "stream",
     "text": [
      "1. Title: Boston Housing Data\n",
      "\n",
      "2. Sources:\n",
      "   (a) Origin:  This dataset was taken from the StatLib library which is\n",
      "                maintained at Carnegie Mellon University.\n",
      "   (b) Creator:  Harrison, D. and Rubinfeld, D.L. 'Hedonic prices and the \n",
      "                 demand for clean air', J. Environ. Economics & Management,\n",
      "                 vol.5, 81-102, 1978.\n",
      "   (c) Date: July 7, 1993\n",
      "\n",
      "3. Past Usage:\n",
      "   -   Used in Belsley, Kuh & Welsch, 'Regression diagnostics ...', Wiley, \n",
      "       1980.   N.B. Various transformations are used in the table on\n",
      "       pages 244-261.\n",
      "    -  Quinlan,R. (1993). Combining Instance-Based and Model-Based Learning.\n",
      "       In Proceedings on the Tenth International Conference of Machine \n",
      "       Learning, 236-243, University of Massachusetts, Amherst. Morgan\n",
      "       Kaufmann.\n",
      "\n",
      "4. Relevant Information:\n",
      "\n",
      "   Concerns housing values in suburbs of Boston.\n",
      "\n",
      "5. Number of Instances: 506\n",
      "\n",
      "6. Number of Attributes: 13 continuous attributes (including \"class\"\n",
      "                         attribute \"MEDV\"), 1 binary-valued attribute.\n",
      "\n",
      "7. Attribute Information:\n",
      "\n",
      "    1. CRIM      per capita crime rate by town\n",
      "    2. ZN        proportion of residential land zoned for lots over \n",
      "                 25,000 sq.ft.\n",
      "    3. INDUS     proportion of non-retail business acres per town\n",
      "    4. CHAS      Charles River dummy variable (= 1 if tract bounds \n",
      "                 river; 0 otherwise)\n",
      "    5. NOX       nitric oxides concentration (parts per 10 million)\n",
      "    6. RM        average number of rooms per dwelling\n",
      "    7. AGE       proportion of owner-occupied units built prior to 1940\n",
      "    8. DIS       weighted distances to five Boston employment centres\n",
      "    9. RAD       index of accessibility to radial highways\n",
      "    10. TAX      full-value property-tax rate per $10,000\n",
      "    11. PTRATIO  pupil-teacher ratio by town\n",
      "    12. B        1000(Bk - 0.63)^2 where Bk is the proportion of blacks \n",
      "                 by town\n",
      "    13. LSTAT    % lower status of the population\n",
      "    14. MEDV     Median value of owner-occupied homes in $1000's\n",
      "\n",
      "8. Missing Attribute Values:  None.\n",
      "\n",
      "\n",
      "\n",
      "\n",
      "10 first lines:\n",
      " 0.00632  18.00   2.310  0  0.5380  6.5750  65.20  4.0900   1  296.0  15.30 396.90   4.98  24.00\n",
      "\n",
      " 0.02731   0.00   7.070  0  0.4690  6.4210  78.90  4.9671   2  242.0  17.80 396.90   9.14  21.60\n",
      "\n",
      " 0.02729   0.00   7.070  0  0.4690  7.1850  61.10  4.9671   2  242.0  17.80 392.83   4.03  34.70\n",
      "\n",
      " 0.03237   0.00   2.180  0  0.4580  6.9980  45.80  6.0622   3  222.0  18.70 394.63   2.94  33.40\n",
      "\n",
      " 0.06905   0.00   2.180  0  0.4580  7.1470  54.20  6.0622   3  222.0  18.70 396.90   5.33  36.20\n",
      "\n",
      " 0.02985   0.00   2.180  0  0.4580  6.4300  58.70  6.0622   3  222.0  18.70 394.12   5.21  28.70\n",
      "\n",
      " 0.08829  12.50   7.870  0  0.5240  6.0120  66.60  5.5605   5  311.0  15.20 395.60  12.43  22.90\n",
      "\n",
      " 0.14455  12.50   7.870  0  0.5240  6.1720  96.10  5.9505   5  311.0  15.20 396.90  19.15  27.10\n",
      "\n",
      " 0.21124  12.50   7.870  0  0.5240  5.6310 100.00  6.0821   5  311.0  15.20 386.63  29.93  16.50\n",
      "\n",
      " 0.17004  12.50   7.870  0  0.5240  6.0040  85.90  6.5921   5  311.0  15.20 386.71  17.10  18.90\n",
      "\n"
     ]
    }
   ],
   "source": [
    "# for auto-reloading external modules\n",
    "# see http://stackoverflow.com/questions/1907993/autoreload-of-modules-in-ipython\n",
    "\n",
    "%load_ext autoreload\n",
    "%autoreload 2\n",
    "\n",
    "from urllib.request import urlretrieve\n",
    "from os.path import isfile, isdir\n",
    "from tqdm import tqdm\n",
    "\n",
    "class DLProgress(tqdm):\n",
    "    last_block = 0\n",
    "\n",
    "    def hook(self, block_num=1, block_size=1, total_size=None):\n",
    "        self.total = total_size\n",
    "        self.update((block_num - self.last_block) * block_size)\n",
    "        self.last_block = block_num\n",
    "\n",
    "if not isfile('housing.data'):\n",
    "    with DLProgress(unit='B', unit_scale=True, miniters=1, desc='Housing Dataset') as pbar:\n",
    "        urlretrieve(\n",
    "            'https://archive.ics.uci.edu/ml/machine-learning-databases/housing/housing.data',\n",
    "            'housing.data',\n",
    "            pbar.hook)\n",
    "\n",
    "if not isfile('housing.names'):\n",
    "    with DLProgress(unit='B', unit_scale=True, miniters=1, desc='Housing Dataset') as pbar:\n",
    "        urlretrieve(\n",
    "            'https://archive.ics.uci.edu/ml/machine-learning-databases/housing/housing.names',\n",
    "            'housing.names',\n",
    "            pbar.hook)\n",
    "\n",
    "# print the description of the data\n",
    "with open('housing.names', 'r') as f:\n",
    "    print(''.join(f.readlines()))\n",
    "\n",
    "# print 10 first lines of the data\n",
    "with open('housing.data', 'r') as f:\n",
    "    print('10 first lines:')\n",
    "    for i in range(10):\n",
    "        print(f.readline())"
   ]
  },
  {
   "cell_type": "markdown",
   "metadata": {},
   "source": [
    "## Load data\n",
    "We are interested in predicting house price (MEDV) in regarding to other factors. In order to do so, it might be more convenient to use pandas"
   ]
  },
  {
   "cell_type": "code",
   "execution_count": 2,
   "metadata": {
    "collapsed": false
   },
   "outputs": [
    {
     "name": "stdout",
     "output_type": "stream",
     "text": [
      "      crim    zn  indus  chas    nox     rm    age     dis  rad    tax  \\\n",
      "0  0.00632  18.0   2.31     0  0.538  6.575   65.2  4.0900    1  296.0   \n",
      "1  0.02731   0.0   7.07     0  0.469  6.421   78.9  4.9671    2  242.0   \n",
      "2  0.02729   0.0   7.07     0  0.469  7.185   61.1  4.9671    2  242.0   \n",
      "3  0.03237   0.0   2.18     0  0.458  6.998   45.8  6.0622    3  222.0   \n",
      "4  0.06905   0.0   2.18     0  0.458  7.147   54.2  6.0622    3  222.0   \n",
      "5  0.02985   0.0   2.18     0  0.458  6.430   58.7  6.0622    3  222.0   \n",
      "6  0.08829  12.5   7.87     0  0.524  6.012   66.6  5.5605    5  311.0   \n",
      "7  0.14455  12.5   7.87     0  0.524  6.172   96.1  5.9505    5  311.0   \n",
      "8  0.21124  12.5   7.87     0  0.524  5.631  100.0  6.0821    5  311.0   \n",
      "9  0.17004  12.5   7.87     0  0.524  6.004   85.9  6.5921    5  311.0   \n",
      "\n",
      "   ptratio       b  lstat  medv  \n",
      "0     15.3  396.90   4.98  24.0  \n",
      "1     17.8  396.90   9.14  21.6  \n",
      "2     17.8  392.83   4.03  34.7  \n",
      "3     18.7  394.63   2.94  33.4  \n",
      "4     18.7  396.90   5.33  36.2  \n",
      "5     18.7  394.12   5.21  28.7  \n",
      "6     15.2  395.60  12.43  22.9  \n",
      "7     15.2  396.90  19.15  27.1  \n",
      "8     15.2  386.63  29.93  16.5  \n",
      "9     15.2  386.71  17.10  18.9  \n"
     ]
    }
   ],
   "source": [
    "import pandas as pd\n",
    "\n",
    "header = ['crim', 'zn', 'indus', 'chas', 'nox', \n",
    "          'rm', 'age', 'dis', 'rad', 'tax', \n",
    "          'ptratio', 'b', 'lstat', 'medv']\n",
    "data = pd.read_csv('housing.data', names = header, delim_whitespace=True)\n",
    "\n",
    "print(data.head(10))"
   ]
  },
  {
   "cell_type": "markdown",
   "metadata": {},
   "source": [
    "## Visualize data\n",
    "It is always a good idea to look at the dataset before working with it."
   ]
  },
  {
   "cell_type": "code",
   "execution_count": 3,
   "metadata": {
    "collapsed": false
   },
   "outputs": [
    {
     "data": {
      "image/png": "[encoded data removed]",
      "text/plain": [
       "<matplotlib.figure.Figure at 0x7fe4fadb2898>"
      ]
     },
     "metadata": {},
     "output_type": "display_data"
    },
    {
     "data": {
      "text/plain": [
       "<matplotlib.text.Text at 0x7fe4f69646a0>"
      ]
     },
     "execution_count": 3,
     "metadata": {},
     "output_type": "execute_result"
    },
    {
     "data": {
      "image/png": "[encoded data removed]",
      "text/plain": [
       "<matplotlib.figure.Figure at 0x7fe4f6935780>"
      ]
     },
     "metadata": {},
     "output_type": "display_data"
    }
   ],
   "source": [
    "import matplotlib.pyplot as plt\n",
    "%matplotlib inline\n",
    "\n",
    "plt.scatter(data['rm'], data['medv'])\n",
    "plt.title('House price v.s average number of room')\n",
    "plt.xlabel('average number of room')\n",
    "plt.ylabel('House price')\n",
    "plt.show()\n",
    "\n",
    "plt.scatter(data['lstat'], data['medv'])\n",
    "plt.title('House price v.s percent of lower status of the population')\n",
    "plt.xlabel('% of lower status of the population')\n",
    "plt.ylabel('House price')"
   ]
  },
  {
   "cell_type": "markdown",
   "metadata": {},
   "source": [
    "Looking at the plot, we can see some linear dependence between house price v.s rm and lstat + some noise. In order to find these dependence, we introduce the theory of Maximum Likelihood.\n",
    "\n",
    "## [Maximum Likelihood](https://en.wikipedia.org/wiki/Maximum_likelihood_estimation)\n",
    "We assume the real target is given by a deterministic function $t=y(\\pmb{\\mathrm{x}},\\pmb{\\mathrm{w}}) + \\epsilon$ where $\\epsilon$ is a zero mean Gaussian random variable with precision (inverse variance) $\\beta$. The Maximum Likelihood is to find $\\pmb{\\mathrm{w}}$ that maximize the [likelihood function](https://en.wikipedia.org/wiki/Likelihood_function)\n",
    "$$\n",
    "p\\left(\\left\\{t^{(i)}\\right\\}_{i=1}^N|\\left\\{\\pmb{\\mathrm{x}}^{(i)}\\right\\}_{i=1}^N;\\pmb{\\mathrm{w}}\\right)\n",
    "$$\n",
    "Assuming $t^{(i)}, \\pmb{\\mathrm{x}}^{(i)}$ are i.i.d. we have\n",
    "$$\n",
    "p\\left(\\left\\{t^{(i)}\\right\\}_{i=1}^N|\\left\\{\\pmb{\\mathrm{x}}^{(i)}\\right\\}_{i=1}^N;\\pmb{\\mathrm{w}}\\right) = \\prod_{i=1}^N p\\left(t^{(i)}|\\pmb{\\mathrm{x}}^{(i)};\\pmb{\\mathrm{w}}\\right)\n",
    "$$\n",
    "Note that\n",
    "$$\n",
    "p\\left(t^{(i)}|\\pmb{\\mathrm{x}}^{(i)};\\pmb{\\mathrm{w}}\\right) = p\\left(\\epsilon = t^{(i)} - y(\\pmb{\\mathrm{x}}^{(i)},\\pmb{\\mathrm{w}})\\right) = \\mathcal{N}\\left(t^{(i)} - y(\\pmb{\\mathrm{x}}^{(i)},\\pmb{\\mathrm{w}}), \\beta^{-1}\\right)\n",
    "$$\n",
    "By taking the $\\log$ to above form we obtain\n",
    "$$\n",
    "\\log p\\left(\\left\\{t^{(i)}\\right\\}_{i=1}^N|\\left\\{\\pmb{\\mathrm{x}}^{(i)}\\right\\}_{i=1}^N;\\pmb{\\mathrm{w}}\\right) = \\sum_{i=1}^N\\log \\mathcal{N}\\left(t^{(i)} - y(\\pmb{\\mathrm{x}}^{(i)},\\pmb{\\mathrm{w}}), \\beta^{-1}\\right)\n",
    "$$\n",
    "Simplify above formula, the maximum likelihood function is equivalent to find $w$ to minimize \n",
    "$$\n",
    "\\frac{1}{2}\\sum_{i=1}^N\\left(t^{(i)} - y(\\pmb{\\mathrm{x}}^{(i)},\\pmb{\\mathrm{w}})\\right)^2\n",
    "$$\n",
    "In our concreate problem, our target is house price $\\mathrm{medv}^{(i)}$ and input is $\\mathrm{lstat}^{(i)}$ and/or $\\mathrm{rm}^{(i)}$. For simplification and easier to plot, we consider input is $\\mathrm{rm}^{(i)}$, our optimization problem is to find $w_0,w_1$ that minimize\n",
    "$$\n",
    "\\frac{1}{2}\\mathrm{arg}\\max_{w_0,w_1}L(w_0,w_1) = \\frac{1}{2}\\sum_{i=1}^N\\left(\\mathrm{medv}^{(i)} - w_0 - w_1 \\times \\mathrm{rm}^{(i)}\\right)^2\n",
    "$$\n",
    "This particular optimization can be solved by\n",
    "* closed form solution in [OLS](https://en.wikipedia.org/wiki/Ordinary_least_squares)\n",
    "* first-order iterative optimization algorithm such as [Gradient descent](https://en.wikipedia.org/wiki/Gradient_descent) and especially [Stochastic gradient descent](https://en.wikipedia.org/wiki/Stochastic_gradient_descent) (often shotened in GD & SGD).\n",
    "\n",
    "Here, we will use the GD and SGD since it is well applied for a boarder optimization problems (where closed form doesn't exists).\n",
    "\n",
    "The GD/SGD is well described in aboves links, the main work is to implement the update formula\n",
    "$$\n",
    "\\pmb{\\mathrm{w}} := \\pmb{\\mathrm{w}} - \\eta \\nabla_{\\pmb{\\mathrm{w}}}L(\\pmb{\\mathrm{w}})\n",
    "$$\n",
    "where $\\eta>0$ is a chosen learning rate."
   ]
  },
  {
   "cell_type": "code",
   "execution_count": 4,
   "metadata": {
    "collapsed": false
   },
   "outputs": [],
   "source": [
    "import numpy as np\n",
    "\n",
    "class LinearModel(object):\n",
    "    '''\n",
    "    LinearModel represents the L function which allows us to compute L(w) and grad_w(L(w))\n",
    "    '''    \n",
    "    def __init__(self):\n",
    "        self.weights = np.array([0., 0.])\n",
    "    \n",
    "\n",
    "    def loss(self, X, y):\n",
    "        '''\n",
    "            X: is input features append 1.0 as first column\n",
    "               with size (N, 2)\n",
    "            y: is target variables with size (N,)\n",
    "\n",
    "            this function compute L(w) and grad_w(L(w))\n",
    "        '''\n",
    "    \n",
    "        tmp = X.dot(self.weights) - y\n",
    "        cost = 0.5 * np.sum(np.square(tmp))\n",
    "        grads = X.T.dot(tmp)\n",
    "        \n",
    "        return cost, grads\n",
    "    \n",
    "    def update(self, dweights):\n",
    "        self.weights += dweights"
   ]
  },
  {
   "cell_type": "markdown",
   "metadata": {},
   "source": [
    "To check our implementation, it's worth to check our gradient implementation v.s numerical gradient (we use the implementation taken from [CS231n](cs231n.stanford.edu) see file *gradient_check.py* for more detail"
   ]
  },
  {
   "cell_type": "code",
   "execution_count": 5,
   "metadata": {
    "collapsed": false
   },
   "outputs": [
    {
     "name": "stdout",
     "output_type": "stream",
     "text": [
      "dw error: 4.827966e-11\n"
     ]
    }
   ],
   "source": [
    "from gradient_check import eval_numerical_gradient, rel_error\n",
    "\n",
    "# def rel_error(x, y):\n",
    "#   \"\"\" returns relative error \"\"\"\n",
    "#   return np.max(np.abs(x - y) / (np.maximum(1e-8, np.abs(x) + np.abs(y))))\n",
    "\n",
    "\n",
    "N = data.shape[0]\n",
    "X = np.ones((N,2))\n",
    "X[:,1] = data['rm']\n",
    "y = data['medv']\n",
    "\n",
    "lm = LinearModel()\n",
    "lm.weights = np.random.randn(2)\n",
    "\n",
    "f = lambda _:lm.loss(X, y)[0]\n",
    "cost, grads = lm.loss(X, y)\n",
    "numerical_grads = eval_numerical_gradient(f, lm.weights, verbose = False, h = 1e-6)\n",
    "\n",
    "# we should see error ~ 1e-9 or smaller\n",
    "print ('dw error: {:e}'.format(rel_error(grads, numerical_grads)))"
   ]
  },
  {
   "cell_type": "markdown",
   "metadata": {},
   "source": [
    "We implement our (Stochastic)Gradient Solver as follow"
   ]
  },
  {
   "cell_type": "code",
   "execution_count": 6,
   "metadata": {
    "collapsed": true
   },
   "outputs": [],
   "source": [
    "class GradientDescentSolver(object):\n",
    "    '''\n",
    "    A GradientDescentSolver implement the Gradient Descent algorithm.\n",
    "    \n",
    "    The solver takes a model and some optimization config dictionary e.g {'learning_rate' : 1e-3}\n",
    "    \n",
    "    Each time we call train(X, y) it will compute dweights and call model.update(dweights)\n",
    "    \n",
    "    So we can either feed \n",
    "        i)  whole data X,y to the solver => Gradient Descent or \n",
    "        ii) a batch sub-samples data => Stochastic Gradient Descent\n",
    "    '''\n",
    "    def __init__(self, model, optim_config, **kwargs):\n",
    "        self.model = model\n",
    "        self.optim_config = optim_config\n",
    "        \n",
    "        self.lr = self.optim_config['learning_rate']\n",
    "        self.lr_decay = kwargs.pop('lr_decay', 1.00)\n",
    "        self.lr_decay_step = kwargs.pop('lr_decay_step', 100)\n",
    "        self.print_every = kwargs.pop('print_every', 10)\n",
    "        self.verbose = kwargs.pop('verbose', True)\n",
    "        \n",
    "        self.loss_history = []\n",
    "        \n",
    "    def train(self, X, y):\n",
    "        cost, grad = self.model.loss(X, y)\n",
    "        self.loss_history.append(cost)\n",
    "        dweight = -self.lr * grad\n",
    "        self.model.update(dweight)        \n",
    "        if self.verbose and len(self.loss_history) % self.print_every == 0:\n",
    "            print ('Iteration {:5d} loss: {:f}'.format(len(self.loss_history), self.loss_history[-1]))\n",
    "        if len(self.loss_history) % self.lr_decay_step == 0:\n",
    "            self.lr *= self.lr_decay"
   ]
  },
  {
   "cell_type": "markdown",
   "metadata": {},
   "source": [
    "## Try Gradient descent\n",
    "Let's try Gradient descent first"
   ]
  },
  {
   "cell_type": "code",
   "execution_count": 7,
   "metadata": {
    "collapsed": false
   },
   "outputs": [
    {
     "name": "stdout",
     "output_type": "stream",
     "text": [
      "Iteration    50 loss: 32207.729582\n",
      "Iteration   100 loss: 17025.149798\n",
      "Iteration   150 loss: 15155.030716\n",
      "Iteration   200 loss: 14922.872320\n",
      "Iteration   250 loss: 14892.249155\n",
      "Iteration   300 loss: 14886.424050\n",
      "Iteration   350 loss: 14883.651338\n",
      "Iteration   400 loss: 14881.255443\n",
      "Iteration   450 loss: 14878.907160\n",
      "Iteration   500 loss: 14876.565984\n",
      "optimized weights:  [ 0.45319796  3.58036364]\n"
     ]
    }
   ],
   "source": [
    "def fit(initial_w, epochs, optim_config, **kwargs):\n",
    "    lm = LinearModel()\n",
    "    lm.weights = initial_w\n",
    "    solver = GradientDescentSolver(lm, optim_config, **kwargs)\n",
    "\n",
    "    for i in range(epochs):\n",
    "        solver.train(X, y)\n",
    "\n",
    "    print ('optimized weights: ', lm.weights)\n",
    "    return lm.weights\n",
    "\n",
    "epochs = 500\n",
    "optim_config = {'learning_rate' : 1.0e-6, 'lr_decay' : 0.95, 'lr_decay_step' : 50}\n",
    "initial_w = np.zeros(2)\n",
    "fitted_weights = fit(initial_w, epochs, optim_config, print_every = 50)\n"
   ]
  },
  {
   "cell_type": "markdown",
   "metadata": {},
   "source": [
    "Let's visualize fitted curve"
   ]
  },
  {
   "cell_type": "code",
   "execution_count": 8,
   "metadata": {
    "collapsed": false
   },
   "outputs": [
    {
     "data": {
      "text/plain": [
       "[<matplotlib.lines.Line2D at 0x7fe4fadb22e8>]"
      ]
     },
     "execution_count": 8,
     "metadata": {},
     "output_type": "execute_result"
    },
    {
     "data": {
      "image/png": "[encoded data removed]",
      "text/plain": [
       "<matplotlib.figure.Figure at 0x7fe4fadb2208>"
      ]
     },
     "metadata": {},
     "output_type": "display_data"
    }
   ],
   "source": [
    "xtest = np.linspace(np.min(data['rm']), np.max(data['rm']))\n",
    "ytest = fitted_weights[0] + fitted_weights[1] * xtest\n",
    "\n",
    "plt.scatter(data['rm'], y)\n",
    "plt.plot(xtest, ytest)\n"
   ]
  },
  {
   "cell_type": "markdown",
   "metadata": {},
   "source": [
    "The fitted curve doesn't seem to fit the data well. It's known that GD only converges to a local minimum, to verify this let's look at the closed form solution\n"
   ]
  },
  {
   "cell_type": "code",
   "execution_count": 9,
   "metadata": {
    "collapsed": false
   },
   "outputs": [
    {
     "name": "stdout",
     "output_type": "stream",
     "text": [
      "Closed form optimal weights = [-34.67062078   9.10210898]\n",
      "Closed form optimal loss = 11030.939598105899\n"
     ]
    }
   ],
   "source": [
    "from scipy import linalg\n",
    "XTX = np.dot(X.T, X)\n",
    "XTy = np.dot(X.T, y)\n",
    "w_analytics = linalg.solve(XTX, XTy, sym_pos=True)\n",
    "print ('Closed form optimal weights = {}'.format(w_analytics))\n",
    "lm = LinearModel()\n",
    "lm.weights = w_analytics\n",
    "print ('Closed form optimal loss = {}'.format(lm.loss(X,y)[0]))"
   ]
  },
  {
   "cell_type": "markdown",
   "metadata": {},
   "source": [
    "The closed form solution is quite far from the one obtained by GD. It turns out that the initial weights play a very important role in the performance of the method.\n",
    "\n",
    "One common work-around is to initialized randomly the weight and re-run GD, however we should first greedy scan the weight space then initialized it close to the global maximum."
   ]
  },
  {
   "cell_type": "code",
   "execution_count": 10,
   "metadata": {
    "collapsed": false
   },
   "outputs": [
    {
     "name": "stdout",
     "output_type": "stream",
     "text": [
      "Iteration    50 loss: 11333.829074\n",
      "Iteration   100 loss: 11083.379203\n",
      "Iteration   150 loss: 11052.554730\n",
      "Iteration   200 loss: 11048.752878\n",
      "Iteration   250 loss: 11048.275883\n",
      "Iteration   300 loss: 11048.207983\n",
      "Iteration   350 loss: 11048.190423\n",
      "Iteration   400 loss: 11048.179062\n",
      "Iteration   450 loss: 11048.168470\n",
      "Iteration   500 loss: 11048.157978\n",
      "optimized weights:  [-32.32036632   8.73265029]\n"
     ]
    },
    {
     "data": {
      "text/plain": [
       "[<matplotlib.lines.Line2D at 0x7fe4f4b66f28>]"
      ]
     },
     "execution_count": 10,
     "metadata": {},
     "output_type": "execute_result"
    },
    {
     "data": {
      "image/png": "[encoded data removed]",
      "text/plain": [
       "<matplotlib.figure.Figure at 0x7fe4f69085f8>"
      ]
     },
     "metadata": {},
     "output_type": "display_data"
    }
   ],
   "source": [
    "init_w = w_analytics + np.random.normal(0.0,1.0,2)\n",
    "\n",
    "opt_w = fit(init_w, epochs, optim_config, print_every = 50)\n",
    "\n",
    "ytest = opt_w[0] + opt_w[1] * xtest\n",
    "\n",
    "plt.scatter(data['rm'], y)\n",
    "plt.plot(xtest, ytest)\n"
   ]
  },
  {
   "cell_type": "markdown",
   "metadata": {},
   "source": [
    "Given better initial weight, it's clear that the fitted curve fits the data better. \n",
    "\n",
    "## Try Stochastic Gradient descent\n",
    "\n",
    "The only different between SGD and GD is SGD doesn't use the whole data, instead at each train-step it takes a random sub-sample of the data and train with it as implemented below"
   ]
  },
  {
   "cell_type": "code",
   "execution_count": 11,
   "metadata": {
    "collapsed": true
   },
   "outputs": [],
   "source": [
    "def fit_sgd(initial_w, epochs, batch_size, optim_config, **kwargs):\n",
    "    lm = LinearModel()\n",
    "    lm.weights = initial_w\n",
    "    solver = GradientDescentSolver(lm, optim_config, **kwargs)\n",
    "    N = X.shape[0]\n",
    "    nb_iters = (epochs * N) // batch_size + 1\n",
    "    for i in range(nb_iters):\n",
    "        idx = np.random.choice(N, batch_size)\n",
    "        solver.train(X[idx], y[idx])\n",
    "\n",
    "    print ('optimized weights: ', lm.weights)\n",
    "    return lm.weights"
   ]
  },
  {
   "cell_type": "code",
   "execution_count": 12,
   "metadata": {
    "collapsed": false
   },
   "outputs": [
    {
     "name": "stdout",
     "output_type": "stream",
     "text": [
      "Iteration   250 loss: 3067.175869\n",
      "Iteration   500 loss: 3206.713313\n",
      "Iteration   750 loss: 1928.725199\n",
      "Iteration  1000 loss: 2356.910071\n",
      "Iteration  1250 loss: 1514.549725\n",
      "Iteration  1500 loss: 1872.866015\n",
      "Iteration  1750 loss: 2656.172875\n",
      "Iteration  2000 loss: 3044.312386\n",
      "Iteration  2250 loss: 3859.603350\n",
      "Iteration  2500 loss: 1512.380940\n",
      "optimized weights:  [-35.82502582   9.27555791]\n"
     ]
    },
    {
     "data": {
      "text/plain": [
       "array([-35.82502582,   9.27555791])"
      ]
     },
     "execution_count": 12,
     "metadata": {},
     "output_type": "execute_result"
    }
   ],
   "source": [
    "epochs = 500\n",
    "batch_size = 100\n",
    "optim_config = {'learning_rate' : 1.0e-6, 'lr_decay' : 0.95, 'lr_decay_step' : 50}\n",
    "initial_w = w_analytics + np.random.normal(0.0,1.0,2)\n",
    "fit_sgd(initial_w, epochs, batch_size, optim_config, print_every = 250, verbose = True)"
   ]
  },
  {
   "cell_type": "markdown",
   "metadata": {},
   "source": [
    "The SGD gives similar optimal weights (given same initial weights), the loss is much smaller since we measure the loss on batched data only. In Machine Learning, we often have a lot of data and GD can't be used since we can't feed the whole data in one train-step. Instead, SGD scales well in these cases, since we can feed a small batch of data at each train-step.\n",
    "\n",
    "Finally, we woule like to try it with TensorFlow\n",
    "\n",
    "## TensorFlow Linear Regression\n",
    "There are a lot of TensorFlow tutorial on the internet so we don't cover the basic here, instead we go directly to implementation"
   ]
  },
  {
   "cell_type": "code",
   "execution_count": 13,
   "metadata": {
    "collapsed": false
   },
   "outputs": [
    {
     "name": "stdout",
     "output_type": "stream",
     "text": [
      "loss by tf 49462.550188\n",
      "loss by np 11035.737083\n"
     ]
    }
   ],
   "source": [
    "import tensorflow as tf\n",
    "\n",
    "# reset everything\n",
    "tf.reset_default_graph()\n",
    "\n",
    "# we create placeholder to keep input data\n",
    "vx = tf.placeholder(tf.float64, [None, 2])    # ensure vx is of size N x 2\n",
    "vy = tf.placeholder(tf.float64, [None, 1])    # ensure vy is of size N x 1\n",
    "\n",
    "# we create variable w to keep weights => this is trainable variable\n",
    "w = tf.Variable(w_analytics.reshape(2,1) + tf.random_normal([2,1], dtype = tf.float64), name = 'weights')\n",
    "\n",
    "# we create the cost function\n",
    "cost = 0.5 * tf.reduce_sum(tf.square(tf.matmul(vx, w) - vy))\n",
    "\n",
    "# try to valuate the loss with initial weight\n",
    "with tf.Session() as sess:\n",
    "    sess.run(tf.global_variables_initializer())\n",
    "    loss = sess.run(cost, feed_dict = {vx : X, vy : y[:, None]})        \n",
    "    print ('loss by tf {:4f}'.format(loss))\n",
    "    print ('loss by np {:4f}'.format(0.5*np.sum(np.square(X.dot(initial_w) - y))))\n",
    "    \n"
   ]
  },
  {
   "cell_type": "code",
   "execution_count": 14,
   "metadata": {
    "collapsed": false
   },
   "outputs": [
    {
     "name": "stdout",
     "output_type": "stream",
     "text": [
      "Iteration   250 loss    1896.7484 w0=-34.6287 w1=9.0881\n",
      "Iteration   500 loss    2194.5318 w0=-34.6287 w1=9.0884\n",
      "Iteration   750 loss    2068.0017 w0=-34.6284 w1=9.0899\n",
      "Iteration  1000 loss    1985.3190 w0=-34.6283 w1=9.0911\n",
      "Iteration  1250 loss    3025.3236 w0=-34.6283 w1=9.0910\n",
      "Iteration  1500 loss    1903.8800 w0=-34.6283 w1=9.0909\n",
      "Iteration  1750 loss    1358.1862 w0=-34.6284 w1=9.0902\n",
      "Iteration  2000 loss    1104.7493 w0=-34.6284 w1=9.0903\n",
      "Iteration  2250 loss    2413.2361 w0=-34.6283 w1=9.0909\n",
      "Iteration  2500 loss    1636.0843 w0=-34.6282 w1=9.0918\n",
      "\n",
      "Final loss   11031.0838 w0=-34.6282 w1=9.0917\n"
     ]
    }
   ],
   "source": [
    "# we create the optimizer i.e solver\n",
    "solver = tf.train.GradientDescentOptimizer(learning_rate = 1.0e-7).minimize(cost)\n",
    "\n",
    "# we fit now\n",
    "epochs = 500\n",
    "batch_size = 100\n",
    "print_every = 250\n",
    "N = X.shape[0]\n",
    "nb_iters = (epochs * N) // batch_size + 1\n",
    "\n",
    "with tf.Session() as sess:\n",
    "    sess.run(tf.global_variables_initializer())\n",
    "    \n",
    "    for i in range(nb_iters):\n",
    "        idx = np.random.choice(N, batch_size)\n",
    "        _ = sess.run(solver, feed_dict = {vx : X[idx], vy : y[idx, None]})\n",
    "        if (i+1) % print_every == 0:\n",
    "            wi, loss = sess.run([w, cost], feed_dict = {vx : X[idx], vy : y[idx, None]})\n",
    "            print ('Iteration {:5d} loss {:12.4f} w0={:.4f} w1={:.4f}'.format(i + 1, loss, wi[0,0], wi[1,0]))\n",
    "    \n",
    "    # final step: compute loss on the whole data\n",
    "    opt_w, loss = sess.run([w, cost], feed_dict = {vx : X, vy : y[:, None]})\n",
    "    print('\\nFinal loss {:12.4f} w0={:.4f} w1={:.4f}'.format(loss, opt_w[0,0], opt_w[1,0]))"
   ]
  },
  {
   "cell_type": "markdown",
   "metadata": {},
   "source": [
    "The weights optained by TensorFlow is similar to the weights of other methods. Moreover it's much easier to use TensorFlow since it abstracts most of the work in its layers and it provides various Solver, here we use GradientDescentOptimizer but we can use AdamOptiizer e.t.c.\n",
    "\n",
    "## Conclusion\n",
    "To recap, we have learnt\n",
    "* Relation between Linear Regression and Maximum Likelihood\n",
    "* (Stochastic) Gradent Descent with Numpy\n",
    "* TensorFlow implementation for Linear Regression\n",
    "* Simple steps in Get Raw Data, Convert Raw Data to Pandas\n",
    "* Simple method to check gradient implementation"
   ]
  }
 ],
 "metadata": {
  "kernelspec": {
   "display_name": "Python 3",
   "language": "python",
   "name": "python3"
  },
  "language_info": {
   "codemirror_mode": {
    "name": "ipython",
    "version": 3
   },
   "file_extension": ".py",
   "mimetype": "text/x-python",
   "name": "python",
   "nbconvert_exporter": "python",
   "pygments_lexer": "ipython3",
   "version": "3.6.0"
  }
 },
 "nbformat": 4,
 "nbformat_minor": 2
}
