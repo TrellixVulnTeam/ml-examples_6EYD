{
 "cells": [
  {
   "cell_type": "markdown",
   "metadata": {},
   "source": [
    "# Linear classifier with softmax\n",
    "We continue from the previous notebook [linear classifier with svm](https://minh84.github.io/ml-examples/demos/learn_tf/01-linear-classifier-svm/), in this note book we consider a different loss function the Softmax function\n",
    "$$\n",
    "L(y, s(x)) = -\\log\\left(\\frac{e^{s_y(x)}}{\\sum_je^{s_j(x)}}\\right)\n",
    "$$\n",
    "we recall some notation \n",
    "$\\newcommand{\\real}{\\mathbb{R}}\n",
    "\\newcommand{\\vi}[1]{#1^{(i)}}\n",
    "\\newcommand{\\vik}[1]{#1^{(i)}_k}\n",
    "\\newcommand{\\vij}[2]{#1^{(i)}_{#2}}\n",
    "$\n",
    "\n",
    "* $x\\in\\real^{D\\times 1}$ is input features \n",
    "* $s(x)$ is linear score of given by\n",
    "$$\n",
    "s(x) = W^T\\times x\n",
    "$$\n",
    "with $W\\in \\real^{C\\times D}$ with $C$ is number of classes.\n",
    "``\n",
    "To make it easier to understand, let's look at an example (taken from [cs231n](http://cs231n.stanford.edu/syllabus.html))\n",
    "$$\n",
    "s=\\left(\\begin{array}{c}\n",
    "3.2\\\\\n",
    "5.1\\\\\n",
    "-1.7\n",
    "\\end{array}\n",
    "\\right)=> \\exp(s) = \\left(\\begin{array}{c}\n",
    "24.5\\\\\n",
    "164.0\\\\\n",
    "0.18\n",
    "\\end{array}\n",
    "\\right)\n",
    "$$\n",
    "then for $y=1$ (here we use convention that array index start from 1) we have then\n",
    "$$\n",
    "L(y,s)=-\\log\\left(\\frac{24.5}{24.5 + 164.0 + 0.18}\\right) = 0.89\n",
    "$$\n",
    "\n",
    "Look at the form of Softmax loss, similar to SVM loss, it also try to increase the chance that $s_y(x)$ is the biggest of $s_j(x)$. Moreover, the Softmax loss is smoother than SVM which in practice will be easier to be optimized.\n",
    "\n",
    "Now let's derived vector form for Softmax loss & gradient.\n",
    "\n",
    "## Softmax loss and gradient\n",
    "We recall that the loss for $N$ samples is given by\n",
    "$$\n",
    "\\frac{1}{N} \\sum_{i=1}^{N}L(\\vi{y}, s(\\vi{x})) + \\lambda ||W||^2\n",
    "$$\n",
    "Recall from previous notebook, we feed data in the following form\n",
    "$$\n",
    "X = \\left(\\begin{array}{c}\n",
    "(x^{(1)})^T\\\\\n",
    "\\vdots\\\\\n",
    "(x^{(N)})^T\n",
    "\\end{array}\\right)\\in \\mathbb{R}^{N\\times D}\n",
    "$$\n",
    "denote $S$ is the score matrix given by\n",
    "$$\n",
    "S = X \\times W\n",
    "$$\n",
    "and $ES=\\exp\\left(S\\right)$ $ESN$ is row-sum of $ES$ \n",
    "$$\n",
    "ESN(i) = \\sum_{j=1}^{C} ES_{i,j}\n",
    "$$\n",
    "then our loss function given by\n",
    "$$\n",
    "\\mathrm{softmax}\\left(W\\right)=\\frac{1}{N}\\sum_{i=1}^N -\\log\\left(\\frac{ES_{i,\\vi{y}}}{ESN(i)}\\right) + \\lambda ||W||^2\n",
    "$$\n",
    "Now we need to compute the gradient of above loss with respect to $W$, first let's compute the gradient for one sample $\\vi{x},\\vi{y}$, we have\n",
    "$$\n",
    "\\vi{s}=s\\left(\\vi{x}\\right) = W^T\\times \\vi{x} \\Rightarrow \\vij{s}{j} = \\sum_{k=1}^D\\vik{x}W_{kj}\n",
    "$$\n",
    "which implies\n",
    "$$\n",
    "\\frac{\\partial}{\\partial W_{uv}} \\vij{s}{j} = \\vij{x}{u} \\times 1_{v=j}\n",
    "$$\n",
    "so\n",
    "\\begin{align*}\n",
    "\\frac{\\partial}{\\partial W_{uv}} \\left(-\\log \\frac{\\exp\\left(\\vij{s}{\\vi{y}}\\right)}{\\sum_j\\exp\\left(\\vij{s}{j}\\right)}\\right)&=  \\frac{\\partial}{\\partial W_{uv}} \\log\\left(\\sum_j\\exp\\left(\\vij{s}{j}\\right) \\right) - \\frac{\\partial}{\\partial W_{uv}}\\vij{s}{\\vi{y}} \\\\\n",
    "&= \\frac{\\exp\\left(\\vij{s}{j}\\right)}{\\sum_j\\exp\\left(\\vij{s}{j}\\right)}\\vij{x}{u} -  \\vij{x}{u} \\times 1_{v=\\vi{y}}\\\\\n",
    "&= \\left(\\frac{\\exp\\left(\\vij{s}{j}\\right)}{\\sum_j\\exp\\left(\\vij{s}{j}\\right)} - 1_{v=\\vi{y}}\\right) \\vij{x}{u}\n",
    "\\end{align*} \n",
    "Denote $P=(P_{iv})\\in \\real^{N\\times C}$ such that\n",
    "$$\n",
    "P_{iv} = \\left(\\frac{\\exp\\left(\\vij{s}{j}\\right)}{\\sum_j\\exp\\left(\\vij{s}{j}\\right)} - 1_{v=\\vi{y}}\\right)\n",
    "$$\n",
    "Then we have\n",
    "$$\n",
    "\\nabla_W L(\\vi{y},s(\\vi{x})) = \\vi{x} \\times P[i]\n",
    "$$\n",
    "where $P[i]$ is $i-$th row of $P$. Taking the sum over $i$ we have\n",
    "$$\n",
    "\\nabla_W \\mathrm{softmax}\\left(W\\right) = \\frac{1}{N} \\sum_{i}\\vi{x} \\times P[i] + \\lambda W = \\frac{1}{N}X^T\\times P + \\lambda W\n",
    "$$\n",
    "\n",
    "Let's implement Softmax Loss\n",
    "\n",
    "\n",
    "## Softmax with implementation in Numpy\n",
    "Numpy is very convenient to do \n",
    "* [index accessing](https://docs.scipy.org/doc/numpy/reference/arrays.indexing.html)\n",
    "* [boardcast operation](https://docs.scipy.org/doc/numpy-1.10.0/user/basics.broadcasting.html)"
   ]
  },
  {
   "cell_type": "code",
   "execution_count": 1,
   "metadata": {
    "collapsed": false
   },
   "outputs": [],
   "source": [
    "import numpy as np\n",
    "import matplotlib.pyplot as plt\n",
    "import tensorflow as tf\n",
    "import time\n",
    "\n",
    "%matplotlib inline\n",
    "plt.rcParams['figure.figsize'] = (10.0, 8.0) # set default size of plots\n",
    "plt.rcParams['image.interpolation'] = 'nearest'\n",
    "plt.rcParams['image.cmap'] = 'gray'\n",
    "\n",
    "# append common path\n",
    "import sys\n",
    "COMMON_PATH = '../common'\n",
    "if COMMON_PATH not in sys.path:\n",
    "    sys.path.insert(0, COMMON_PATH)\n",
    "    \n",
    "# for auto-reloading extenrnal modules\n",
    "# see http://stackoverflow.com/questions/1907993/autoreload-of-modules-in-ipython\n",
    "%load_ext autoreload\n",
    "%autoreload 2\n",
    "\n",
    "# loading pre-process data\n",
    "from cifar10_input import load_flatten_CIFAR10\n",
    "cifar10_dir = 'cifar-10-batches-py'\n",
    "\n",
    "data = load_flatten_CIFAR10(cifar10_dir)\n",
    "X_train = data['X_train']\n",
    "y_train = data['y_train']\n",
    "mean_images = data['mean_images']\n",
    "X_val = data['X_val']\n",
    "y_val = data['y_val']\n",
    "X_test = data['X_test']\n",
    "y_test = data['y_test']"
   ]
  },
  {
   "cell_type": "code",
   "execution_count": 2,
   "metadata": {
    "collapsed": true
   },
   "outputs": [],
   "source": [
    "def softmax_np(W, X, y, reg):\n",
    "    N = X.shape[0]\n",
    "    scores = X.dot(W)\n",
    "    \n",
    "    if y is None:\n",
    "        return scores\n",
    "    \n",
    "    # sub max to ensure stable computation\n",
    "    exp_scores = np.exp(scores - np.amax(scores, axis=1, keepdims=True))\n",
    "    # normalize exp_scores\n",
    "    exp_scores /= np.sum(exp_scores, axis=1, keepdims=True)\n",
    "    \n",
    "    loss = - np.mean(np.log(exp_scores[range(N), y])) + 0.5 * reg * np.sum(W**2)\n",
    "    \n",
    "    # compute P matrix\n",
    "    exp_scores[range(N), y] -= 1.0\n",
    "    \n",
    "    # compute gradient dW\n",
    "    dW = np.dot(X.T, exp_scores) / N + reg * W\n",
    "    return loss, dW"
   ]
  },
  {
   "cell_type": "markdown",
   "metadata": {},
   "source": [
    "### Test the implementation\n",
    "It's always a good idea to test our implementation v.s numerical gradient"
   ]
  },
  {
   "cell_type": "code",
   "execution_count": 3,
   "metadata": {
    "collapsed": false
   },
   "outputs": [
    {
     "name": "stdout",
     "output_type": "stream",
     "text": [
      "loss:         2.39226   \n",
      "sanity check: 2.30259   \n",
      "\n"
     ]
    }
   ],
   "source": [
    "X_dev = X_train[:100]\n",
    "y_dev = y_train[:100]\n",
    "\n",
    "D = X_train.shape[1]\n",
    "C = 10\n",
    "\n",
    "\n",
    "loss, grad = softmax_np(1e-4 * np.random.randn(D, C), X_dev, y_dev, 0.0)\n",
    "\n",
    "# As a rough sanity check, our loss should be something close to -log(0.1).\n",
    "print ('loss:         {:<10.5f}'.format(loss))\n",
    "print ('sanity check: {:<10.5f}\\n'.format(-np.log(0.1)))\n",
    "\n",
    "# Generate a random softmax weight matrix and use it to compute the loss.\n",
    "initW = 0.001 * np.random.randn(D, C) \n"
   ]
  },
  {
   "cell_type": "code",
   "execution_count": 4,
   "metadata": {
    "collapsed": false
   },
   "outputs": [
    {
     "name": "stdout",
     "output_type": "stream",
     "text": [
      "numerical:       0.48 analytic:       0.48, relative error: 4.77513e-08\n",
      "numerical:       0.10 analytic:       0.10, relative error: 7.90991e-08\n",
      "numerical:       2.10 analytic:       2.10, relative error: 7.64809e-09\n",
      "numerical:      -2.83 analytic:      -2.83, relative error: 2.38165e-09\n",
      "numerical:       0.01 analytic:       0.01, relative error: 3.77501e-08\n",
      "numerical:      -0.50 analytic:      -0.50, relative error: 3.07524e-08\n",
      "numerical:      -3.99 analytic:      -3.99, relative error: 4.71411e-13\n",
      "numerical:      -2.41 analytic:      -2.41, relative error: 1.93992e-09\n",
      "numerical:       3.88 analytic:       3.88, relative error: 3.21670e-09\n",
      "numerical:      -1.17 analytic:      -1.17, relative error: 5.49690e-08\n",
      "numerical:      -3.21 analytic:      -3.21, relative error: 3.81690e-09\n",
      "numerical:       0.02 analytic:       0.02, relative error: 1.44000e-06\n",
      "numerical:      -2.32 analytic:      -2.32, relative error: 1.21546e-08\n",
      "numerical:      -5.65 analytic:      -5.65, relative error: 2.81633e-09\n",
      "numerical:      -0.47 analytic:      -0.47, relative error: 8.28682e-08\n",
      "numerical:       1.58 analytic:       1.58, relative error: 1.43874e-08\n",
      "numerical:      -3.05 analytic:      -3.05, relative error: 2.97649e-09\n",
      "numerical:      -0.58 analytic:      -0.58, relative error: 8.66949e-09\n",
      "numerical:       1.15 analytic:       1.15, relative error: 1.42938e-09\n",
      "numerical:       0.47 analytic:       0.47, relative error: 9.35892e-09\n"
     ]
    }
   ],
   "source": [
    "loss_np1, grad_np1 = softmax_np(initW, X_dev, y_dev, 0.0)\n",
    "\n",
    "# As we did for the SVM, use numeric gradient checking as a debugging tool.\n",
    "# The numeric gradient should be close to the analytic gradient.\n",
    "from gradient_check import grad_check_sparse, rel_error\n",
    "\n",
    "f = lambda w: softmax_np(w, X_dev, y_dev, 0.0)[0]\n",
    "grad_numerical = grad_check_sparse(f, initW, grad_np1, 10)\n",
    "\n",
    "# similar to SVM case, do another gradient check with regularization\n",
    "loss_np2, grad_np2 = softmax_np(initW, X_dev, y_dev, 1e2)\n",
    "f = lambda w: softmax_np(w, X_dev, y_dev, 1e2)[0]\n",
    "grad_numerical = grad_check_sparse(f, initW, grad_np2, 10)"
   ]
  },
  {
   "cell_type": "markdown",
   "metadata": {},
   "source": [
    "The results look correct, let's try it with TensorFlow\n",
    "## Softmax with TensorFlow\n",
    "Fortunately, TensorFlow has already implemented Softmax, let's try it out using double precision so that we can compare against Numpy's implementation"
   ]
  },
  {
   "cell_type": "code",
   "execution_count": 5,
   "metadata": {
    "collapsed": false
   },
   "outputs": [
    {
     "name": "stdout",
     "output_type": "stream",
     "text": [
      "reg 0.0\n",
      "loss:         4.99920   \n",
      "rel-error     0.00000e+00\n",
      "dW rel-error: 5.58395e-12\n",
      "\n",
      "reg 100.0\n",
      "loss:         6.53334   \n",
      "rel-error     2.71891e-16\n",
      "dW rel-error: 6.22104e-11\n"
     ]
    }
   ],
   "source": [
    "tf.reset_default_graph()\n",
    "\n",
    "# create trainable variable\n",
    "vW = tf.Variable(initW, dtype=tf.float64, name = 'W')\n",
    "\n",
    "# create placeholder to feed input\n",
    "vX = tf.placeholder(tf.float64, name = 'X')\n",
    "vy = tf.placeholder(tf.int64, name = 'y')\n",
    "vreg = tf.placeholder(tf.float64, name = 'reg')\n",
    "\n",
    "# create scores/cost\n",
    "scores_tf = tf.matmul(vX, vW)\n",
    "cost = tf.reduce_mean(tf.nn.sparse_softmax_cross_entropy_with_logits(labels=vy, logits=scores_tf)) + vreg * tf.nn.l2_loss(vW)\n",
    "grad = tf.gradients(cost, vW)[0]\n",
    "\n",
    "with tf.Session() as sess:\n",
    "    # initilized variable\n",
    "    sess.run(tf.global_variables_initializer())\n",
    "    \n",
    "    # compute loss with reg = 0\n",
    "    loss_tf1, dW_tf1 = sess.run([cost, grad], feed_dict = {vX : X_dev, vy: y_dev, vreg : 0.0})\n",
    "    print ('reg 0.0')\n",
    "    print ('loss:         {:<10.5f}\\nrel-error     {:<10.5e}'.format(loss_tf1, rel_error(loss_tf1, loss_np1))) \n",
    "    \n",
    "    print ('dW rel-error: {:<10.5e}\\n'.format(rel_error(dW_tf1, grad_np1)))\n",
    "    # compute loss with reg = 100.0\n",
    "    loss_tf2, dW_tf2 = sess.run([cost, grad], feed_dict = {vX : X_dev, vy: y_dev, vreg : 100.0})\n",
    "    \n",
    "    print ('reg 100.0')\n",
    "    print ('loss:         {:<10.5f}\\nrel-error     {:<10.5e}'.format(loss_tf2, rel_error(loss_tf2, loss_np2))) \n",
    "    print ('dW rel-error: {:<10.5e}'.format(rel_error(dW_tf2, grad_np2)))"
   ]
  },
  {
   "cell_type": "markdown",
   "metadata": {},
   "source": [
    "The result obtain by Numpy and TensorFlow are similar, let's train our model with SGD.\n",
    "\n",
    "## Train our model with SGD\n",
    "We re-use the code implemented from previous notebook\n",
    "\n",
    "### SGD with softmax_np"
   ]
  },
  {
   "cell_type": "code",
   "execution_count": 6,
   "metadata": {
    "collapsed": false
   },
   "outputs": [
    {
     "name": "stdout",
     "output_type": "stream",
     "text": [
      "\n",
      "Epoch   0/10  val_acc = 11.20%\n",
      "Iter        100/2450       loss   286.5406\n",
      "Iter        200/2450       loss   106.0692\n",
      "\n",
      "Epoch   1/10  val_acc = 21.70%\n",
      "Iter        300/2450       loss    40.2307\n",
      "Iter        400/2450       loss    16.0513\n",
      "\n",
      "Epoch   2/10  val_acc = 31.70%\n",
      "Iter        500/2450       loss     7.1443\n",
      "Iter        600/2450       loss     3.9063\n",
      "Iter        700/2450       loss     2.8100\n",
      "\n",
      "Epoch   3/10  val_acc = 33.50%\n",
      "Iter        800/2450       loss     2.3135\n",
      "Iter        900/2450       loss     2.1872\n",
      "\n",
      "Epoch   4/10  val_acc = 34.20%\n",
      "Iter       1000/2450       loss     2.0387\n",
      "Iter       1100/2450       loss     2.0602\n",
      "Iter       1200/2450       loss     2.0797\n",
      "\n",
      "Epoch   5/10  val_acc = 33.70%\n",
      "Iter       1300/2450       loss     2.0849\n",
      "Iter       1400/2450       loss     2.1100\n",
      "\n",
      "Epoch   6/10  val_acc = 34.30%\n",
      "Iter       1500/2450       loss     2.0791\n",
      "Iter       1600/2450       loss     2.1064\n",
      "Iter       1700/2450       loss     2.0572\n",
      "\n",
      "Epoch   7/10  val_acc = 34.20%\n",
      "Iter       1800/2450       loss     2.1078\n",
      "Iter       1900/2450       loss     2.0858\n",
      "\n",
      "Epoch   8/10  val_acc = 34.20%\n",
      "Iter       2000/2450       loss     2.0421\n",
      "Iter       2100/2450       loss     2.0933\n",
      "Iter       2200/2450       loss     2.1054\n",
      "\n",
      "Epoch   9/10  val_acc = 34.40%\n",
      "Iter       2300/2450       loss     2.0575\n",
      "Iter       2400/2450       loss     2.0386\n",
      "\n",
      "Epoch  10/10  val_acc = 33.90%\n",
      "\n",
      "Train time: 3.06       seconds\n"
     ]
    }
   ],
   "source": [
    "from data_utils import Dataset\n",
    "from func_opt import sgd_np\n",
    "\n",
    "batch_size = 200\n",
    "# create data train/val/test\n",
    "train_data = Dataset(X_train, y_train, batch_size, dtype = np.float32)\n",
    "val_data = Dataset(X_val, y_val, X_val.shape[0], dtype = np.float32)\n",
    "test_data = Dataset(X_test, y_test, X_test.shape[0], dtype = np.float32)\n",
    "\n",
    "lr = 1e-7\n",
    "reg = 5e4\n",
    "epochs = 10\n",
    "batch_size = 200\n",
    "\n",
    "train_data = Dataset(X_train, y_train, batch_size, dtype = np.float32)\n",
    "val_data = Dataset(X_val, y_val, 1000, dtype = np.float32)\n",
    "\n",
    "np.random.seed(2793)\n",
    "\n",
    "W, loss_hist = sgd_np(softmax_np, initW, \n",
    "                      train_data, val_data, \n",
    "                      reg, epochs, learning_rate=lr, print_every=100)"
   ]
  },
  {
   "cell_type": "code",
   "execution_count": 7,
   "metadata": {
    "collapsed": false
   },
   "outputs": [
    {
     "data": {
      "image/png": "[encoded data removed]",
      "text/plain": [
       "<matplotlib.figure.Figure at 0x7f372ef76358>"
      ]
     },
     "metadata": {},
     "output_type": "display_data"
    },
    {
     "name": "stdout",
     "output_type": "stream",
     "text": [
      "\n",
      "Valuation on test-set acc = 32.69%\n"
     ]
    }
   ],
   "source": [
    "plt.plot(loss_hist)\n",
    "plt.xlabel('epochs number')\n",
    "plt.ylabel('loss value')\n",
    "plt.show()\n",
    "\n",
    "scores_np = softmax_np(W, X_test, None, reg)\n",
    "acc = np.mean(np.argmax(scores_np, axis=1) == y_test)\n",
    "print('\\nValuation on test-set acc = {:5.2f}%'.format(100 * acc))"
   ]
  },
  {
   "cell_type": "markdown",
   "metadata": {},
   "source": [
    "### SGD with Tensorflow\n",
    "We use the [tf.train.GradientDescentOptimizer](https://www.tensorflow.org/api_docs/python/tf/train/GradientDescentOptimizer), moreover we redefine the variable to scale down to single precision"
   ]
  },
  {
   "cell_type": "code",
   "execution_count": 8,
   "metadata": {
    "collapsed": false
   },
   "outputs": [
    {
     "name": "stdout",
     "output_type": "stream",
     "text": [
      "\n",
      "Epoch   0/10  val_acc = 11.20%\n",
      "Iter        100/2450       loss   286.5407\n",
      "Iter        200/2450       loss   106.0692\n",
      "\n",
      "Epoch   1/10  val_acc = 21.70%\n",
      "Iter        300/2450       loss    40.2307\n",
      "Iter        400/2450       loss    16.0513\n",
      "\n",
      "Epoch   2/10  val_acc = 31.70%\n",
      "Iter        500/2450       loss     7.1443\n",
      "Iter        600/2450       loss     3.9063\n",
      "Iter        700/2450       loss     2.8100\n",
      "\n",
      "Epoch   3/10  val_acc = 33.50%\n",
      "Iter        800/2450       loss     2.3135\n",
      "Iter        900/2450       loss     2.1872\n",
      "\n",
      "Epoch   4/10  val_acc = 34.20%\n",
      "Iter       1000/2450       loss     2.0387\n",
      "Iter       1100/2450       loss     2.0602\n",
      "Iter       1200/2450       loss     2.0797\n",
      "\n",
      "Epoch   5/10  val_acc = 33.70%\n",
      "Iter       1300/2450       loss     2.0849\n",
      "Iter       1400/2450       loss     2.1100\n",
      "\n",
      "Epoch   6/10  val_acc = 34.30%\n",
      "Iter       1500/2450       loss     2.0791\n",
      "Iter       1600/2450       loss     2.1064\n",
      "Iter       1700/2450       loss     2.0572\n",
      "\n",
      "Epoch   7/10  val_acc = 34.20%\n",
      "Iter       1800/2450       loss     2.1078\n",
      "Iter       1900/2450       loss     2.0858\n",
      "\n",
      "Epoch   8/10  val_acc = 34.20%\n",
      "Iter       2000/2450       loss     2.0421\n",
      "Iter       2100/2450       loss     2.0933\n",
      "Iter       2200/2450       loss     2.1054\n",
      "\n",
      "Epoch   9/10  val_acc = 34.40%\n",
      "Iter       2300/2450       loss     2.0575\n",
      "Iter       2400/2450       loss     2.0386\n",
      "\n",
      "Epoch  10/10  val_acc = 33.90%\n",
      "\n",
      "Train time: 11.09      seconds\n"
     ]
    }
   ],
   "source": [
    "tf.reset_default_graph()\n",
    "\n",
    "# create trainable variable\n",
    "vW = tf.Variable(initW, dtype=tf.float32, name = 'W')\n",
    "\n",
    "# create placeholder to feed input\n",
    "vX = tf.placeholder(tf.float32, name = 'X')\n",
    "vy = tf.placeholder(tf.int64, name = 'y')\n",
    "vreg = tf.placeholder(tf.float32, name = 'reg')\n",
    "\n",
    "# create scores/cost\n",
    "scores_tf = tf.matmul(vX, vW)\n",
    "cost = tf.reduce_mean(tf.nn.sparse_softmax_cross_entropy_with_logits(labels=vy, logits=scores_tf)) \\\n",
    "                                                            + vreg * tf.nn.l2_loss(vW)\n",
    "grad = tf.gradients(cost, vW)[0]\n",
    "\n",
    "# define train op\n",
    "train_op = tf.train.GradientDescentOptimizer(learning_rate=lr).minimize(cost)\n",
    "\n",
    "# define correct-prediciont op to compute accuracy\n",
    "correct_pred = tf.equal(tf.argmax(scores_tf, axis = 1), vy)\n",
    "acc = tf.reduce_mean(tf.cast(correct_pred, tf.float32))\n",
    "\n",
    "nb_iters = train_data.get_nb_iters(epochs)\n",
    "loss_history = []    \n",
    "opt_W = None\n",
    "print_every = 100\n",
    "\n",
    "with tf.Session() as sess:\n",
    "    # init out variable\n",
    "    sess.run(tf.global_variables_initializer())\n",
    "    \n",
    "    # reset seed for batch-data\n",
    "    np.random.seed(2793)\n",
    "    \n",
    "    # training loop\n",
    "    start = time.time()\n",
    "    for i in range(1, nb_iters + 1):\n",
    "        X_batch, y_batch = train_data.next_batch()\n",
    "        loss, _ = sess.run([cost, train_op], feed_dict= {vX : X_batch, vy : y_batch, vreg : reg})\n",
    "\n",
    "        loss_history.append(loss)\n",
    "        # log current state        \n",
    "        if (i % print_every == 0):                    \n",
    "            print('Iter {:>10d}/{:<10d} loss {:10.4f}'.format(i, nb_iters, loss))\n",
    "\n",
    "\n",
    "        epoch_end, epoch = train_data.is_epoch_end(i)\n",
    "        if (epoch_end) or (i == 1):\n",
    "            # validation it here\n",
    "            if val_data is not None:\n",
    "                X_val, y_val = val_data.next_batch()\n",
    "\n",
    "                val_acc = sess.run(acc, feed_dict= { vX : X_val, vy : y_val, vreg : reg})\n",
    "\n",
    "                print('\\nEpoch {:>3d}/{:<3d} val_acc = {:5.2f}%'.format(epoch, epochs, 100 * val_acc))\n",
    "        opt_W = sess.run(vW)\n",
    "\n",
    "    print ('\\nTrain time: {:<10.2f} seconds'.format(time.time() - start))"
   ]
  },
  {
   "cell_type": "code",
   "execution_count": 9,
   "metadata": {
    "collapsed": false
   },
   "outputs": [
    {
     "data": {
      "image/png": "[encoded data removed]",
      "text/plain": [
       "<matplotlib.figure.Figure at 0x7f3711cdbc18>"
      ]
     },
     "metadata": {},
     "output_type": "display_data"
    },
    {
     "name": "stdout",
     "output_type": "stream",
     "text": [
      "\n",
      "Valuation on test-set acc = 32.69%\n"
     ]
    }
   ],
   "source": [
    "plt.plot(loss_history)\n",
    "plt.xlabel('epochs number')\n",
    "plt.ylabel('loss value')\n",
    "plt.show()\n",
    "\n",
    "scores = softmax_np(W, X_test, None, reg)\n",
    "acc = np.mean(np.argmax(scores, axis=1) == y_test)\n",
    "print('\\nValuation on test-set acc = {:5.2f}%'.format(100 * acc))"
   ]
  },
  {
   "cell_type": "markdown",
   "metadata": {},
   "source": [
    "## Numpy vs TensorFlow\n",
    "For Softmax, it's much easier to implement it in TensorFlow since we can use it out of the box. The both implementations give similar result. However, once again we see TensorFlow is 3 times slower than Numpy, we might need to investigate further."
   ]
  }
 ],
 "metadata": {
  "kernelspec": {
   "display_name": "Python 3",
   "language": "python",
   "name": "python3"
  },
  "language_info": {
   "codemirror_mode": {
    "name": "ipython",
    "version": 3
   },
   "file_extension": ".py",
   "mimetype": "text/x-python",
   "name": "python",
   "nbconvert_exporter": "python",
   "pygments_lexer": "ipython3",
   "version": "3.5.2"
  }
 },
 "nbformat": 4,
 "nbformat_minor": 2
}
