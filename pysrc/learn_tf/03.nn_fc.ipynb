{
 "cells": [
  {
   "cell_type": "markdown",
   "metadata": {},
   "source": [
    "# Neural Network\n",
    "Recently, Deep Neural Network becomes very popular in various tasks from Image Classification, Speech Recognizion to NLP. In this notebook, we give an introduction of Neural Network in the context of Classification, it will cover the following topics \n",
    "\n",
    "* Neural Network Modeling\n",
    "* Using NN on toy examples\n",
    "* Visualize NN\n",
    "\n",
    "## Neural Network Modeling\n",
    "The Neural Network has originally been inspired by the goal of modeling our brain system. It has the following diagram\n"
   ]
  }
 ],
 "metadata": {
  "kernelspec": {
   "display_name": "Python 3",
   "language": "python",
   "name": "python3"
  },
  "language_info": {
   "codemirror_mode": {
    "name": "ipython",
    "version": 3
   },
   "file_extension": ".py",
   "mimetype": "text/x-python",
   "name": "python",
   "nbconvert_exporter": "python",
   "pygments_lexer": "ipython3",
   "version": "3.5.2"
  }
 },
 "nbformat": 4,
 "nbformat_minor": 2
}
