{
 "cells": [
  {
   "cell_type": "markdown",
   "metadata": {},
   "source": [
    "# Classification Problem\n",
    "In this notebook we work on classification of [CIFAR-10 dataset](https://www.cs.toronto.edu/~kriz/cifar.html). We define some notation to use later on\n",
    "\n",
    "* $x^{(i)}$ are input-images each has shape 32x32x3 (RGB)\n",
    "* $y^{(i)}$ are labels of above images and can take values $0,\\ldots,9$ corresponding to 10 classes\n",
    "\n",
    "To solve this classification, we try to find a function $h$ that maps from image $x$ to scores i.e\n",
    "$$\n",
    "h: x \\mapsto \\left(\\begin{array}{c}s_0(x)\\\\ \\ldots\\\\ s_9(x)\\end{array}\\right)\n",
    "$$\n",
    "where $s_i(x)$ is score of $x$ in $i-$th class. Then we predict the label of $x$ as\n",
    "$$\n",
    "x\\text{'s label}:=\\mathrm{arg}\\max_{i}s_i(x)\n",
    "$$\n",
    "\n",
    "The notebook is organized as follows\n",
    "* Load CIFAR-10 dataset \n",
    "* Introduce Linear classifier\n",
    "* Pre-processing data for Linear classifier\n",
    "* Multiclass SVM loss\n",
    "* Optimize SVM loss with SGD\n",
    "\n",
    "The goal of this notebook is to learn how to implement SVM loss function in [numpy](http://www.numpy.org/) and [TensorFlows](https://www.tensorflow.org/).\n",
    "\n",
    "Let's start by loading some python modules"
   ]
  },
  {
   "cell_type": "code",
   "execution_count": 1,
   "metadata": {
    "collapsed": false
   },
   "outputs": [],
   "source": [
    "import numpy as np\n",
    "import matplotlib.pyplot as plt\n",
    "import tensorflow as tf\n",
    "import time\n",
    "\n",
    "%matplotlib inline\n",
    "plt.rcParams['figure.figsize'] = (10.0, 8.0) # set default size of plots\n",
    "plt.rcParams['image.interpolation'] = 'nearest'\n",
    "plt.rcParams['image.cmap'] = 'gray'\n",
    "\n",
    "# append common path\n",
    "import sys\n",
    "COMMON_PATH = '../common'\n",
    "if COMMON_PATH not in sys.path:\n",
    "    sys.path.insert(0, COMMON_PATH)\n",
    "    \n",
    "# for auto-reloading extenrnal modules\n",
    "# see http://stackoverflow.com/questions/1907993/autoreload-of-modules-in-ipython\n",
    "%load_ext autoreload\n",
    "%autoreload 2\n"
   ]
  },
  {
   "cell_type": "markdown",
   "metadata": {},
   "source": [
    "# Get the data\n",
    "We need to download dataset from the internet and untar it, we use some helper functions in *common* directory"
   ]
  },
  {
   "cell_type": "code",
   "execution_count": 2,
   "metadata": {
    "collapsed": false
   },
   "outputs": [
    {
     "name": "stdout",
     "output_type": "stream",
     "text": [
      "http://www.cs.toronto.edu/~kriz/cifar-10-python.tar.gz is downloaded to ./cifar-10-python.tar.gz\n",
      "./cifar-10-python.tar.gz is untar to ./cifar-10-batches-py\n"
     ]
    }
   ],
   "source": [
    "from data_utils import download_file_to_cwd, untar_to_cwd\n",
    "\n",
    "url = 'http://www.cs.toronto.edu/~kriz/cifar-10-python.tar.gz'\n",
    "filename = 'cifar-10-python.tar.gz'\n",
    "\n",
    "# download data to current directory\n",
    "download_file_to_cwd(url, filename)\n",
    "\n",
    "# untar the data\n",
    "cifar10_dir = 'cifar-10-batches-py'\n",
    "untar_to_cwd(filename, cifar10_dir)"
   ]
  },
  {
   "cell_type": "code",
   "execution_count": 3,
   "metadata": {
    "collapsed": false
   },
   "outputs": [
    {
     "name": "stdout",
     "output_type": "stream",
     "text": [
      "Train inputs shape: (49000, 32, 32, 3)\n",
      "Train labels shape: (49000,)\n",
      "Validation inputs shape: (1000, 32, 32, 3)\n",
      "Validation labels shape: (1000,)\n",
      "Test inputs shape: (10000, 32, 32, 3)\n",
      "Test labels shape: (10000,)\n"
     ]
    }
   ],
   "source": [
    "# load data to memory\n",
    "from cifar10_input import load_CIFAR10\n",
    "\n",
    "X_train, y_train, X_test, y_test = load_CIFAR10(cifar10_dir)\n",
    "\n",
    "# let's divide train into training set (49000) + validation set (1000)\n",
    "num_training = 49000\n",
    "\n",
    "mask = range(num_training, X_train.shape[0])\n",
    "X_val = X_train[mask]\n",
    "y_val = y_train[mask]\n",
    "\n",
    "mask = range(num_training)\n",
    "X_train = X_train[mask]\n",
    "y_train = y_train[mask]\n",
    "\n",
    "print ('Train inputs shape: {}'.format(X_train.shape))\n",
    "print ('Train labels shape: {}'.format(y_train.shape))\n",
    "\n",
    "print ('Validation inputs shape: {}'.format(X_val.shape))\n",
    "print ('Validation labels shape: {}'.format(y_val.shape))\n",
    "\n",
    "print ('Test inputs shape: {}'.format(X_test.shape))\n",
    "print ('Test labels shape: {}'.format(y_test.shape))\n"
   ]
  },
  {
   "cell_type": "markdown",
   "metadata": {},
   "source": [
    "# Linear classifier\n",
    "We consider $h(x)$ as linear function of $x$\n",
    "$$\n",
    "h(x) = f(x,W) = w_0 + \\sum_{i,j}w_{i,j}x_{i,j}\n",
    "$$\n",
    "\n",
    "Our goal is to find $W$ to minimize some loss function \n",
    "$$\n",
    "L(y, f(x, W))\n",
    "$$\n",
    "where $y$ is the label of the image $x$.\n",
    "\n",
    "## Pre-processing training data\n",
    "To simplify our computation, we do the following preprocesing steps\n",
    "\n",
    "* flatten our input image 32x32x3 => 3072 \n",
    "* normalize training data (it's always good idea to have normalized input with mean = 0.0), \n",
    "* append one (for bias term) to the end of each input."
   ]
  },
  {
   "cell_type": "code",
   "execution_count": 4,
   "metadata": {
    "collapsed": false
   },
   "outputs": [
    {
     "name": "stdout",
     "output_type": "stream",
     "text": [
      "Train inputs shape: (49000, 3073)\n",
      "Validation inputs shape: (1000, 3073)\n",
      "Test inputs shape: (10000, 3073)\n"
     ]
    }
   ],
   "source": [
    "# flatten input data\n",
    "X_train = X_train.reshape(X_train.shape[0],-1)\n",
    "X_val = X_val.reshape(X_val.shape[0],-1)\n",
    "X_test = X_test.reshape(X_test.shape[0],-1)\n",
    "\n",
    "# normalize training data\n",
    "mean_images = np.mean(X_train, axis=0)\n",
    "X_train -= mean_images\n",
    "X_val -= mean_images\n",
    "X_test -= mean_images\n",
    "\n",
    "# append one for bias term\n",
    "X_train = np.hstack([X_train, np.ones((X_train.shape[0], 1))])\n",
    "X_val = np.hstack([X_val, np.ones((X_val.shape[0], 1))])\n",
    "X_test = np.hstack([X_test, np.ones((X_test.shape[0], 1))])\n",
    "\n",
    "print ('Train inputs shape: {}'.format(X_train.shape))\n",
    "print ('Validation inputs shape: {}'.format(X_val.shape))\n",
    "print ('Test inputs shape: {}'.format(X_test.shape))"
   ]
  },
  {
   "cell_type": "markdown",
   "metadata": {},
   "source": [
    "In the above code, $x$ is flattened $x\\in\\mathbb{R}^D$ (D=3073 in our example) and we consider the input data in following form\n",
    "$$\n",
    "X = \\left(\\begin{array}{c}\n",
    "(x^{(1)})^T\\\\\n",
    "\\vdots\\\\\n",
    "(x^{(N)})^T\n",
    "\\end{array}\\right)\\in \\mathbb{R}^{N\\times D}\n",
    "$$\n",
    "so the weight matrix $W$ has shape $D\\times C$ with $C$ is number of classes (in our example $C=10$) and our linear function is given by\n",
    "$$\n",
    "f(X,W) = X\\times W\n",
    "$$\n",
    "where each row is score for each input.\n",
    "\n",
    "## Multiclass SVM loss\n",
    "Given $(x,y)$ are the image and the label,respectively, and the scores $s(x)=f(x,W)$, the SVM loss for one sample $(x,y)$ has the form\n",
    "$$\n",
    "L(y, s(x)) = \\sum_{i\\neq y}\\max(0, s_i - s_y + 1)\n",
    "$$\n",
    "Intutively, if $s_y >= s_i + 1$ for all $i\\neq y$ we then have SVM loss $=0$, so the SVM is try to maximize the chance of $s_y$ is the maximum of $s_i$. Since we predict the label of $x$ as $\\mathrm{arg}\\max_{i}s_i$, minimize SVM loss might help to maximize correct prediction.\n",
    "\n",
    "The SVM loss for $N$ samples is the mean of SVM loss at each one sample plus a regulized form:\n",
    "$$\n",
    "\\mathrm{loss}(W) = \\frac{1}{N} \\sum_{i=1}^NL\\left(y^{(i)}, s(x^{(i)})\\right) + \\frac{1}{2}\\lambda ||W||^2\n",
    "$$\n",
    "where $||W||^2 = \\sum_{i,j}W_{i,j}^2$ is added to reduce overfitting\n",
    "\n",
    "In the following we implement the SVM loss \n",
    "* using **numpy** only\n",
    "* using **TensorFlow**\n",
    "\n",
    "Note that we need to compute not only the loss function but also the gradient with respect to $W$ so that we can use with SGD to minimize the loss. \n",
    "\n",
    "Let's compute the loss, we define $M = \\left(M_{ij}\\right)\\in \\mathbb{R}^{N\\times D}$ where\n",
    "$$\n",
    " M_{ij} = \\left\\{ \\begin{array}{l}\n",
    " s_j\\left(x^{(i)}\\right) - s_{y^{(i)}}\\left(x^{(i)}\\right) + 1 \\text{ for } j\\neq y^{(i)}\\\\\n",
    " 0 \\text{ otherwise}\n",
    " \\end{array}\n",
    " \\right.\n",
    "$$\n",
    "Then the SVM-loss is given as\n",
    "$$\n",
    " \\sum_{i=1}^NL\\left(y^{(i)}, s(x^{(i)})\\right) = \\sum_{ij}M_{ij}\\times 1_{M_{ij} > 0}\n",
    "$$\n",
    "\n",
    "Let's derive the gradient, we have\n",
    "$$\n",
    " \\frac{\\partial}{\\partial W_{uv}} \\max\\left(0, s_j\\left(x^{(i)}\\right) - s_{y^{(i)}}\\left(x^{(i)}\\right) + 1\\right)  = 1_{M_{ij} > 0}\\times \\left(x^{(i)}_{u}\\times 1_{j=v} -x^{(i)}_{u}\\times 1_{j=y^{(i)}}\\right)\n",
    "$$\n",
    "so the we have\n",
    "$$\n",
    "\\nabla_W\\max\\left(0, s_j\\left(x^{(i)}\\right) - s_{y^{(i)}}\\left(x^{(i)}\\right) + 1\\right) =  1_{M_{ij} > 0} \\times \\left(\\begin{array}{ccccccccccc}\n",
    "    0 & \\cdots & 0 &x^{(i)}_1 & 0 & \\cdots & 0 & -x^{(i)}_1 & 0 & \\cdots & 0\\\\\n",
    "    0 & \\cdots & 0 &x^{(i)}_2 & 0 & \\cdots & 0 & -x^{(i)}_2 & 0 & \\cdots & 0\\\\\n",
    "    \\vdots & \\vdots & \\vdots& \\vdots& \\vdots& \\vdots& \\vdots& \\vdots& \\vdots& \\vdots& \\vdots\\\\\n",
    "    0 & \\cdots & 0 & \\smash[b]{\\underbrace{x^{(i)}_D}_{j-th}} & 0 & \\cdots & 0 & \\smash[b]{\\underbrace{-x^{(i)}_D}_{y^{(i)}-th}} & 0 & \\cdots & 0\n",
    "\\end{array}\\right)\n",
    "$$\n",
    "\n",
    "Denote $P=(P_{ij})\\in \\mathbb{R}^{N\\times D}$ is defined as\n",
    "$$\n",
    "P_{ij} = \\left\\{\\begin{array}{ll}\n",
    "1_{M_{ij} > 0} & \\text{if } j\\neq y^{(i)}\\\\\n",
    "- \\sum_{j\\neq y^{(i)}} 1_{M_{ij} > 0} & \\text{otherwise}\n",
    "\\end{array}\n",
    "\\right.\n",
    "$$\n",
    "From above equation, we can show that\n",
    "$$\n",
    "\\nabla_W L\\left(y^{(i)}, s(x^{(i)})\\right) = P[i] \\times x^{(i)}\n",
    "$$\n",
    "where $P[i]$ is i-th row of $P$, so\n",
    "$$\n",
    "\\nabla_W\\sum_{i=1}^NL\\left(y^{(i)}, s(x^{(i)})\\right) = \\sum_{i=1}^N P[i] \\times x^{(i)} = X^T\\times P\n",
    "$$\n",
    "\n",
    "### Implentation SVM with Numpy"
   ]
  },
  {
   "cell_type": "code",
   "execution_count": 5,
   "metadata": {
    "collapsed": true
   },
   "outputs": [],
   "source": [
    "def svm_np(X, y, W, reg):\n",
    "    '''\n",
    "    we implement svm loss defined as above\n",
    "        X: data inputs has shape (N, D)\n",
    "        y: labels has shape (N,)\n",
    "        W: weights has shape (D, num_classes)\n",
    "        reg: positive real number\n",
    "    the function return\n",
    "        loss: svm loss\n",
    "        dW: gradient of loss regarding to W\n",
    "    '''    \n",
    "    scores = X.dot(W)    # N x num_classes\n",
    "    \n",
    "    if y is None:\n",
    "        return scores\n",
    "    \n",
    "    N = X.shape[0]\n",
    "    M = 1 + scores - scores[range(N), y].reshape(N,1)    \n",
    "    M[range(N), y] = 0.0\n",
    "    \n",
    "    pos_scores = np.zeros_like(M)\n",
    "    pos_scores[M > 0] = 1.0\n",
    "    \n",
    "    # svm loss\n",
    "    loss = np.sum(M * pos_scores) / N\n",
    "    \n",
    "    # adding reg\n",
    "    loss += 0.5 * reg * np.sum(W*W)\n",
    "    \n",
    "    # implement the grad\n",
    "    sum_pos_scores = np.sum(pos_scores, axis=1)  # sum 1_{M_{ij} > 0}\n",
    "    pos_scores[range(N), y] = - sum_pos_scores\n",
    "    \n",
    "    # grad SVM with respect to W\n",
    "    dW = X.T.dot(pos_scores) / N\n",
    "    \n",
    "    # grad L2 reg with respect to W\n",
    "    dW += reg * W\n",
    "    \n",
    "    return loss, dW\n",
    "    "
   ]
  },
  {
   "cell_type": "code",
   "execution_count": 6,
   "metadata": {
    "collapsed": false
   },
   "outputs": [
    {
     "name": "stdout",
     "output_type": "stream",
     "text": [
      "loss for weight close to zero: 9.0445, we should expect loss is close to 9\n"
     ]
    }
   ],
   "source": [
    "# we do some test on the loss function & grad\n",
    "X_dev = X_train[:100]\n",
    "y_dev = y_train[:100]\n",
    "\n",
    "D = X_train.shape[1]  # 3073\n",
    "num_classes = 10\n",
    "# test the loss with W initialized very small\n",
    "W = np.random.randn(D, num_classes) * 1.0e-5\n",
    "\n",
    "loss,_ = svm_np(X_dev, y_dev, W, 1e-5)\n",
    "print ('loss for weight close to zero: {:.4f}, we should expect loss is close to 9'.format(loss))"
   ]
  },
  {
   "cell_type": "code",
   "execution_count": 7,
   "metadata": {
    "collapsed": false
   },
   "outputs": [
    {
     "name": "stdout",
     "output_type": "stream",
     "text": [
      "\n",
      "test analytics grad vs numerical grad for reg=0.00\n",
      "loss:     9.0445\n",
      "numerical:      -5.00 analytic:      -5.00, relative error: 4.10182e-12\n",
      "numerical:     -10.44 analytic:     -10.44, relative error: 1.46684e-12\n",
      "numerical:      12.66 analytic:      12.66, relative error: 1.79906e-13\n",
      "numerical:      11.14 analytic:      11.14, relative error: 1.59188e-13\n",
      "numerical:      -8.73 analytic:      -8.73, relative error: 7.41365e-13\n",
      "numerical:     -15.35 analytic:     -15.35, relative error: 1.27636e-12\n",
      "numerical:      -2.29 analytic:      -2.29, relative error: 1.21880e-11\n",
      "numerical:      11.61 analytic:      11.61, relative error: 1.34308e-12\n",
      "numerical:       1.76 analytic:       1.76, relative error: 3.07464e-12\n",
      "numerical:     -22.12 analytic:     -22.12, relative error: 4.89815e-13\n",
      "\n",
      "test analytics grad vs numerical grad for reg=100000.00\n",
      "loss:     9.2015\n",
      "numerical:       4.68 analytic:       4.68, relative error: 2.93276e-12\n",
      "numerical:      -8.91 analytic:      -8.91, relative error: 4.25314e-13\n",
      "numerical:      31.17 analytic:      31.17, relative error: 1.08906e-12\n",
      "numerical:      21.28 analytic:      21.28, relative error: 1.31870e-14\n",
      "numerical:      -3.19 analytic:      -3.19, relative error: 4.86434e-12\n",
      "numerical:     -23.17 analytic:     -23.17, relative error: 1.32475e-12\n",
      "numerical:      16.14 analytic:      16.14, relative error: 4.21103e-12\n",
      "numerical:       2.12 analytic:       2.12, relative error: 1.49841e-11\n",
      "numerical:       6.88 analytic:       6.88, relative error: 1.85558e-12\n",
      "numerical:      13.95 analytic:      13.95, relative error: 7.31985e-15\n"
     ]
    }
   ],
   "source": [
    "# test the grad vs numerical grad\n",
    "from gradient_check import grad_check_sparse, rel_error\n",
    "\n",
    "# first test with \n",
    "reg = 0.0\n",
    "print ('\\ntest analytics grad vs numerical grad for reg={:.2f}'.format(reg))\n",
    "loss_t1, dW_t1 = svm_np(X_dev, y_dev, W, reg)\n",
    "print ('loss: {:10.4f}'.format(loss_t1))\n",
    "f = lambda w: svm_np(X_dev, y_dev, w, reg)[0]\n",
    "grad_num = grad_check_sparse(f, W, dW_t1)\n",
    "\n",
    "reg = 1.0e5\n",
    "print ('\\ntest analytics grad vs numerical grad for reg={:.2f}'.format(reg))\n",
    "loss_t2, dW_t2 = svm_np(X_dev, y_dev, W, reg)\n",
    "print ('loss: {:10.4f}'.format(loss_t2))\n",
    "f = lambda w: svm_np(X_dev, y_dev, w, reg)[0]\n",
    "grad_num = grad_check_sparse(f, W, dW_t2)"
   ]
  },
  {
   "cell_type": "markdown",
   "metadata": {},
   "source": [
    "Looking at numerical gradient v.s analytics one, we are confident about our implementation. Let's try to re-implement in in TensorFlow\n",
    "\n",
    "### Implentation SVM with TensorFlow\n",
    "The main difficulty with TensorFlow is it does not support dynamics range i.e given $M$ is a 2D-tensor and we can't access $M[0:N-1,y]$ where $N$ is number of input. However, there is a work around, by fixing the batch_size $N$, we create a range $[0:N-1]$ in advance, then we can access $M[0:N,y]$. \n",
    "\n",
    "The implementation is given below, and we test v.s numpy implementation:"
   ]
  },
  {
   "cell_type": "code",
   "execution_count": 8,
   "metadata": {
    "collapsed": false
   },
   "outputs": [
    {
     "name": "stdout",
     "output_type": "stream",
     "text": [
      "\n",
      "test analytics grad vs numerical grad for reg=0.00\n",
      "loss is: 9.0445 rel error: 0.00000e+00\n",
      "grad rel error: 5.33548e-11\n",
      "\n",
      "test analytics grad vs numerical grad for reg=100000.00\n",
      "loss is: 9.2015 rel error: 0.00000e+00\n",
      "grad rel error: 6.01852e-12\n"
     ]
    }
   ],
   "source": [
    "#tf.reset_default_graph()\n",
    "\n",
    "def svm_tf(X, y,  W,  reg, batch_idx):    \n",
    "    scores = tf.matmul(X, W)\n",
    "    \n",
    "    coord = tf.transpose(tf.stack([batch_idx, y]))    \n",
    "    correct_scores = tf.gather_nd(scores, coord)    \n",
    "    M = tf.nn.relu(1.0 + scores - tf.reshape(correct_scores,[-1,1]))\n",
    "    cost = tf.reduce_mean(tf.reduce_sum(M, axis=1)) - 1.0 + reg * tf.nn.l2_loss(W)\n",
    "    grad = tf.gradients(cost, [W])[0]\n",
    "    correct_pred = tf.equal(tf.argmax(scores, axis = 1), y)\n",
    "    acc = tf.reduce_mean(tf.cast(correct_pred, tf.float32))\n",
    "    return cost, grad, acc\n",
    "\n",
    "batch_size = 100\n",
    "X_dev = X_train[:batch_size]\n",
    "y_dev = y_train[:batch_size]\n",
    "batch_idx = tf.constant(np.arange(batch_size))\n",
    "vX = tf.placeholder(tf.float64, [None, D])\n",
    "vy = tf.placeholder(tf.int64, [None])\n",
    "vreg = tf.placeholder(tf.float64)\n",
    "vW = tf.Variable(W, name = 'W')\n",
    "\n",
    "cost, grad, _ = svm_tf(vX, vy, vW, vreg, batch_idx)\n",
    "\n",
    "reg = 0.0\n",
    "print ('\\ntest analytics grad vs numerical grad for reg={:.2f}'.format(reg))\n",
    "with tf.Session() as sess:\n",
    "    sess.run(tf.global_variables_initializer())\n",
    "    loss, dW = sess.run([cost, grad], feed_dict = {vX : X_dev, vy : y_dev, vreg : reg})\n",
    "    print('loss is: {:.4f} rel error: {:10.5e}'.format(loss, rel_error(loss, loss_t1)))\n",
    "    print('grad rel error: {:10.5e}'.format(rel_error(dW, dW_t1)))\n",
    "\n",
    "reg = 1.0e5\n",
    "print ('\\ntest analytics grad vs numerical grad for reg={:.2f}'.format(reg))\n",
    "with tf.Session() as sess:\n",
    "    sess.run(tf.global_variables_initializer())\n",
    "    loss, dW = sess.run([cost, grad], feed_dict = {vX : X_dev, vy : y_dev, vreg : reg})\n",
    "    print('loss is: {:.4f} rel error: {:10.5e}'.format(loss, rel_error(loss, loss_t2)))\n",
    "    print('grad rel error: {:10.5e}'.format(rel_error(dW, dW_t2)))    "
   ]
  },
  {
   "cell_type": "markdown",
   "metadata": {},
   "source": [
    "The TensorFlow and Numpy both give very similar results. Let's try to optimize it using SGD, (we will scale down the datatype float64 -> float32 to reduce memory consumption), first we do it with numpy\n",
    "\n",
    "## Optimize with SGD algorithm\n",
    "\n",
    "### Implement SGD with Numpy\n",
    "We start by implementing SGD in numpy. To simplify our task, we use the Dataset from data_utils to get batch-input"
   ]
  },
  {
   "cell_type": "code",
   "execution_count": 9,
   "metadata": {
    "collapsed": true
   },
   "outputs": [],
   "source": [
    "def sgd_np(f, initW, train_data, val_data, reg, epochs, learning_rate = 1.0e-3, print_every = 20):\n",
    "    '''\n",
    "    sgd_np implements SGD algorithm to minimize function f\n",
    "        f: is a function with signature f(X, y, W, reg) => loss, grad\n",
    "        initW: is initial weights\n",
    "        train_data: is Dataset object supports function next_batch() => X_batch, y_batch used in train-step\n",
    "        val_data: is Dataset object supports function next_batch() => X_batch, y_batch used in val-step\n",
    "        reg: regularization lambda\n",
    "        learning_rate: a hyperparameter to control update-step W:= W - learning_rate * dW        \n",
    "        print_every: log to console the loss & store it in loss_history to visualize it laters\n",
    "    '''   \n",
    "    \n",
    "    # downcast to float32\n",
    "    W = initW.astype(np.float32)\n",
    "    \n",
    "    # get number of iteration\n",
    "    nb_iters = train_data.get_nb_iters(epochs)\n",
    "    loss_history = []\n",
    "    \n",
    "    start = time.time()\n",
    "    for i in range(1, nb_iters + 1):\n",
    "        X_batch, y_batch = train_data.next_batch()\n",
    "        loss, grad = f(X_batch, y_batch, W, reg)  \n",
    "        loss_history.append(loss)\n",
    "        \n",
    "        it_per_second = i / (time.time() - start)\n",
    "        #sys.stdout.write(\"\\rProgress: {:>5.2f}% Speed (it/sec): {:>10.4f}\".format(100 * i / nb_iters, it_per_second))\n",
    "                       \n",
    "        # sgd update for minimize loss\n",
    "        W -= learning_rate * grad        \n",
    "        \n",
    "        # log current state        \n",
    "        if (i % print_every == 0):        \n",
    "            print('Iter {:>10d}/{:<10d} loss {:10.4f}'.format(i, nb_iters, loss))\n",
    "        \n",
    "        \n",
    "        epoch_end, epoch = train_data.is_epoch_end(i)\n",
    "        if (epoch_end) or (i == 1):\n",
    "            # validation it here\n",
    "            if val_data is not None:\n",
    "                X_val, y_val = val_data.next_batch()\n",
    "                scores = f(X_val, None, W, reg)\n",
    "                acc = np.mean(np.argmax(scores, axis=1) == y_val)\n",
    "                print('\\nEpoch {:>3d}/{:<3d} val_acc = {:5.2f}%'.format(epoch, epochs, 100 * acc))\n",
    "    \n",
    "    print ('\\nTrain time: {:<10.2f} seconds'.format(time.time() - start))\n",
    "    return W, loss_history"
   ]
  },
  {
   "cell_type": "markdown",
   "metadata": {},
   "source": [
    "### Fit optimal weight with SGD\n",
    "We now are ready to fit optimal weight for SVM, we should expect accuracy ~ 37%"
   ]
  },
  {
   "cell_type": "code",
   "execution_count": 10,
   "metadata": {
    "collapsed": false
   },
   "outputs": [
    {
     "name": "stdout",
     "output_type": "stream",
     "text": [
      "\n",
      "Epoch   0/10  val_acc =  9.00%\n",
      "Iter        100/2450       loss   287.1925\n",
      "Iter        200/2450       loss   107.3475\n",
      "\n",
      "Epoch   1/10  val_acc = 32.40%\n",
      "Iter        300/2450       loss    42.8402\n",
      "Iter        400/2450       loss    19.0037\n",
      "\n",
      "Epoch   2/10  val_acc = 35.10%\n",
      "Iter        500/2450       loss    10.1583\n",
      "Iter        600/2450       loss     6.9216\n",
      "Iter        700/2450       loss     6.4267\n",
      "\n",
      "Epoch   3/10  val_acc = 37.50%\n",
      "Iter        800/2450       loss     5.1702\n",
      "Iter        900/2450       loss     5.5196\n",
      "\n",
      "Epoch   4/10  val_acc = 37.80%\n",
      "Iter       1000/2450       loss     4.7932\n",
      "Iter       1100/2450       loss     5.0509\n",
      "Iter       1200/2450       loss     5.5003\n",
      "\n",
      "Epoch   5/10  val_acc = 37.40%\n",
      "Iter       1300/2450       loss     5.1796\n",
      "Iter       1400/2450       loss     5.4393\n",
      "\n",
      "Epoch   6/10  val_acc = 38.50%\n",
      "Iter       1500/2450       loss     5.3376\n",
      "Iter       1600/2450       loss     5.2767\n",
      "Iter       1700/2450       loss     5.4552\n",
      "\n",
      "Epoch   7/10  val_acc = 39.10%\n",
      "Iter       1800/2450       loss     5.4867\n",
      "Iter       1900/2450       loss     5.4599\n",
      "\n",
      "Epoch   8/10  val_acc = 36.60%\n",
      "Iter       2000/2450       loss     4.7786\n",
      "Iter       2100/2450       loss     5.4999\n",
      "Iter       2200/2450       loss     5.1709\n",
      "\n",
      "Epoch   9/10  val_acc = 37.90%\n",
      "Iter       2300/2450       loss     5.0242\n",
      "Iter       2400/2450       loss     5.1785\n",
      "\n",
      "Epoch  10/10  val_acc = 38.00%\n",
      "\n",
      "Train time: 3.84       seconds\n"
     ]
    }
   ],
   "source": [
    "from data_utils import Dataset\n",
    "D = X_train.shape[1]\n",
    "initW = 0.001 * np.random.randn(D,10) \n",
    "\n",
    "lr = 1e-7\n",
    "reg = 5e4\n",
    "epochs = 10\n",
    "batch_size = 200\n",
    "\n",
    "train_data = Dataset(X_train, y_train, batch_size, dtype = np.float32)\n",
    "val_data = Dataset(X_val, y_val, 1000, dtype = np.float32)\n",
    "\n",
    "np.random.seed(2793)\n",
    "\n",
    "W, loss_hist = sgd_np(svm_np, initW, train_data, val_data, reg, epochs, \n",
    "                      learning_rate=lr, print_every=100)"
   ]
  },
  {
   "cell_type": "markdown",
   "metadata": {},
   "source": [
    "### Test obtained weights on test data\n",
    "We can test our obtimal weight on X_test, y_test"
   ]
  },
  {
   "cell_type": "code",
   "execution_count": 11,
   "metadata": {
    "collapsed": false
   },
   "outputs": [
    {
     "data": {
      "image/png": "[encoded data removed]",
      "text/plain": [
       "<matplotlib.figure.Figure at 0x7f2c1f009da0>"
      ]
     },
     "metadata": {},
     "output_type": "display_data"
    },
    {
     "name": "stdout",
     "output_type": "stream",
     "text": [
      "\n",
      "Valuation on test-set acc = 36.01%\n"
     ]
    }
   ],
   "source": [
    "plt.plot(loss_hist)\n",
    "plt.xlabel('epochs number')\n",
    "plt.ylabel('loss value')\n",
    "plt.show()\n",
    "\n",
    "scores = svm_np(X_test, None, W, reg)\n",
    "acc = np.mean(np.argmax(scores, axis=1) == y_test)\n",
    "print('\\nValuation on test-set acc = {:5.2f}%'.format(100 * acc))"
   ]
  },
  {
   "cell_type": "markdown",
   "metadata": {},
   "source": [
    "### SGD with TensorFlow\n",
    "Now, let's try SGD with TensorFlow which is very convenient since SGD is already implemented in SGD: [tf.train.GradientDescentOptimizer](https://www.tensorflow.org/api_docs/python/tf/train/GradientDescentOptimizer)"
   ]
  },
  {
   "cell_type": "code",
   "execution_count": 12,
   "metadata": {
    "collapsed": true
   },
   "outputs": [],
   "source": [
    "def sgd_tf(initW, train_data, val_data, reg, epochs, learning_rate = 1.0e-3, print_every = 20):\n",
    "    # setup input\n",
    "    train_idx = tf.constant(np.arange(train_data.batch_size()))\n",
    "    val_idx = tf.constant(np.arange(val_data.batch_size()))\n",
    "    vX = tf.placeholder(tf.float32, [None, D])\n",
    "    vy = tf.placeholder(tf.int64, [None])\n",
    "    vreg = tf.placeholder(tf.float32)\n",
    "    \n",
    "    # trainable variable\n",
    "    vW = tf.Variable(initW.astype(np.float32), name = 'W')\n",
    "    \n",
    "    # cost & acc\n",
    "    cost, _, _ = svm_tf(vX, vy, vW, vreg, train_idx)\n",
    "    _, _, val_acc = svm_tf(vX, vy, vW, vreg, val_idx)\n",
    "    \n",
    "    # setup optimizer\n",
    "    train_op = tf.train.GradientDescentOptimizer(learning_rate=learning_rate).minimize(cost)\n",
    "    \n",
    "    nb_iters = train_data.get_nb_iters(epochs)\n",
    "    loss_history = []    \n",
    "    opt_W = None\n",
    "    with tf.Session() as sess:\n",
    "        # init out variable\n",
    "        sess.run(tf.global_variables_initializer())\n",
    "        \n",
    "        # training loop\n",
    "        start = time.time()\n",
    "        for i in range(1, nb_iters + 1):\n",
    "            X_batch, y_batch = train_data.next_batch()\n",
    "            loss, _ = sess.run([cost, train_op], feed_dict= {vX : X_batch,\n",
    "                                                             vy : y_batch,\n",
    "                                                             vreg : reg})\n",
    "            \n",
    "            loss_history.append(loss)\n",
    "            # log current state        \n",
    "            if (i % print_every == 0):                    \n",
    "                print('Iter {:>10d}/{:<10d} loss {:10.4f}'.format(i, nb_iters, loss))\n",
    "\n",
    "\n",
    "            epoch_end, epoch = train_data.is_epoch_end(i)\n",
    "            if (epoch_end) or (i == 1):\n",
    "                # validation it here\n",
    "                if val_data is not None:\n",
    "                    X_val, y_val = val_data.next_batch()\n",
    "                    \n",
    "                    acc = sess.run(val_acc, feed_dict= { vX : X_val,\n",
    "                                                         vy : y_val,\n",
    "                                                         vreg : reg})\n",
    "                    \n",
    "                    print('\\nEpoch {:>3d}/{:<3d} val_acc = {:5.2f}%'.format(epoch, epochs, 100 * acc))\n",
    "        \n",
    "        print ('\\nTrain time: {:<10.2f} seconds'.format(time.time() - start))\n",
    "        \n",
    "        opt_W = sess.run(vW)\n",
    "    return opt_W, loss_history"
   ]
  },
  {
   "cell_type": "code",
   "execution_count": 13,
   "metadata": {
    "collapsed": false
   },
   "outputs": [
    {
     "name": "stdout",
     "output_type": "stream",
     "text": [
      "\n",
      "Epoch   0/10  val_acc =  9.00%\n",
      "Iter        100/2450       loss   287.1926\n",
      "Iter        200/2450       loss   107.3475\n",
      "\n",
      "Epoch   1/10  val_acc = 32.40%\n",
      "Iter        300/2450       loss    42.8403\n",
      "Iter        400/2450       loss    19.0037\n",
      "\n",
      "Epoch   2/10  val_acc = 35.10%\n",
      "Iter        500/2450       loss    10.1583\n",
      "Iter        600/2450       loss     6.9216\n",
      "Iter        700/2450       loss     6.4267\n",
      "\n",
      "Epoch   3/10  val_acc = 37.50%\n",
      "Iter        800/2450       loss     5.1702\n",
      "Iter        900/2450       loss     5.5196\n",
      "\n",
      "Epoch   4/10  val_acc = 37.80%\n",
      "Iter       1000/2450       loss     4.7932\n",
      "Iter       1100/2450       loss     5.0509\n",
      "Iter       1200/2450       loss     5.5003\n",
      "\n",
      "Epoch   5/10  val_acc = 37.40%\n",
      "Iter       1300/2450       loss     5.1796\n",
      "Iter       1400/2450       loss     5.4393\n",
      "\n",
      "Epoch   6/10  val_acc = 38.50%\n",
      "Iter       1500/2450       loss     5.3376\n",
      "Iter       1600/2450       loss     5.2767\n",
      "Iter       1700/2450       loss     5.4552\n",
      "\n",
      "Epoch   7/10  val_acc = 39.10%\n",
      "Iter       1800/2450       loss     5.4867\n",
      "Iter       1900/2450       loss     5.4599\n",
      "\n",
      "Epoch   8/10  val_acc = 36.60%\n",
      "Iter       2000/2450       loss     4.7786\n",
      "Iter       2100/2450       loss     5.4999\n",
      "Iter       2200/2450       loss     5.1709\n",
      "\n",
      "Epoch   9/10  val_acc = 37.90%\n",
      "Iter       2300/2450       loss     5.0242\n",
      "Iter       2400/2450       loss     5.1785\n",
      "\n",
      "Epoch  10/10  val_acc = 38.00%\n",
      "\n",
      "Train time: 9.46       seconds\n"
     ]
    }
   ],
   "source": [
    "# test TensorFlow's SGD\n",
    "lr = 1e-7\n",
    "reg = 5e4\n",
    "epochs = 10\n",
    "batch_size = 200\n",
    "\n",
    "train_data = Dataset(X_train, y_train, batch_size, dtype = np.float32)\n",
    "val_data = Dataset(X_val, y_val, 1000, dtype = np.float32)\n",
    "\n",
    "np.random.seed(2793)\n",
    "\n",
    "W_tf, loss_hist_tf = sgd_tf(initW, train_data, val_data, reg, epochs, \n",
    "                      learning_rate=lr, print_every=100)\n",
    "    "
   ]
  },
  {
   "cell_type": "code",
   "execution_count": 14,
   "metadata": {
    "collapsed": false
   },
   "outputs": [
    {
     "data": {
      "image/png": "[encoded data removed]",
      "text/plain": [
       "<matplotlib.figure.Figure at 0x7f2c4c7e4860>"
      ]
     },
     "metadata": {},
     "output_type": "display_data"
    },
    {
     "name": "stdout",
     "output_type": "stream",
     "text": [
      "\n",
      "Valuation on test-set acc = 36.01%\n"
     ]
    }
   ],
   "source": [
    "plt.plot(loss_hist_tf)\n",
    "plt.xlabel('epochs number')\n",
    "plt.ylabel('loss value')\n",
    "plt.show()\n",
    "\n",
    "scores = svm_np(X_test, None, W_tf, reg)\n",
    "acc = np.mean(np.argmax(scores, axis=1) == y_test)\n",
    "print('\\nValuation on test-set acc = {:5.2f}%'.format(100 * acc))\n",
    "  "
   ]
  },
  {
   "cell_type": "markdown",
   "metadata": {},
   "source": [
    "# Conclusion\n",
    "We have implemented Multiclass SVM Linear Classifier using Numpy and TensorFlow, they both give similar result. However due to the difficulty while accessing array's index it seems that TensorFlows is 3 times slower than Numpy. Notice that the svm loss function is  implemented by us so it might not as optimal as it should be. We hope TensorFlow will improve array indexing in the next release and also implement more loss function (they seem only implement softmax)."
   ]
  }
 ],
 "metadata": {
  "kernelspec": {
   "display_name": "Python 3",
   "language": "python",
   "name": "python3"
  },
  "language_info": {
   "codemirror_mode": {
    "name": "ipython",
    "version": 3
   },
   "file_extension": ".py",
   "mimetype": "text/x-python",
   "name": "python",
   "nbconvert_exporter": "python",
   "pygments_lexer": "ipython3",
   "version": "3.5.3"
  }
 },
 "nbformat": 4,
 "nbformat_minor": 2
}
