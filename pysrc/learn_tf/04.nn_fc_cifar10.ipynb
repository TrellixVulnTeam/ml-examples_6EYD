{
 "cells": [
  {
   "cell_type": "markdown",
   "metadata": {},
   "source": [
    "# Apply NN on CIFAR10\n",
    "\n",
    "In the previous notebook, we have introduced NNs to fit some 2d toy-examples and NNs can classify non-linear separable data perfectly. In this notebook, we would like to try NNs on CIFAR10 to measure it's performance against Linear classifier.\n",
    "\n",
    "First, let's load modules and CIFAR10-dataset"
   ]
  },
  {
   "cell_type": "code",
   "execution_count": 81,
   "metadata": {
    "collapsed": false
   },
   "outputs": [
    {
     "name": "stdout",
     "output_type": "stream",
     "text": [
      "The autoreload extension is already loaded. To reload it, use:\n",
      "  %reload_ext autoreload\n",
      "http://www.cs.toronto.edu/~kriz/cifar-10-python.tar.gz is downloaded to ./cifar-10-python.tar.gz\n",
      "./cifar-10-python.tar.gz is untar to ./cifar-10-batches-py\n"
     ]
    }
   ],
   "source": [
    "import numpy as np\n",
    "import matplotlib.pyplot as plt\n",
    "import tensorflow as tf\n",
    "import time\n",
    "\n",
    "%matplotlib inline\n",
    "%config InlineBackend.figure_format = 'retina'\n",
    "plt.rcParams['figure.figsize'] = (5.0, 5.0) # set default size of plots\n",
    "plt.rcParams['image.interpolation'] = 'nearest'\n",
    "plt.rcParams['image.cmap'] = 'gray'\n",
    "\n",
    "# append common path\n",
    "import sys\n",
    "COMMON_PATH = '../common'\n",
    "if COMMON_PATH not in sys.path:\n",
    "    sys.path.insert(0, COMMON_PATH)\n",
    "    \n",
    "# for auto-reloading extenrnal modules\n",
    "# see http://stackoverflow.com/questions/1907993/autoreload-of-modules-in-ipython\n",
    "%load_ext autoreload\n",
    "%autoreload 2\n",
    "\n",
    "from data_utils import download_file_to_cwd, untar_to_cwd\n",
    "\n",
    "url = 'http://www.cs.toronto.edu/~kriz/cifar-10-python.tar.gz'\n",
    "filename = 'cifar-10-python.tar.gz'\n",
    "\n",
    "# download data to current directory\n",
    "download_file_to_cwd(url, filename)\n",
    "\n",
    "# untar the data\n",
    "cifar10_dir = 'cifar-10-batches-py'\n",
    "untar_to_cwd(filename, cifar10_dir)\n",
    "\n",
    "# load data to memory\n",
    "from cifar10_input import load_flatten_CIFAR10, show_img\n",
    "\n",
    "# since NNs explicit create the biase, we don't need to append one to input\n",
    "data = load_flatten_CIFAR10(cifar10_dir, append_one = False)"
   ]
  },
  {
   "cell_type": "markdown",
   "metadata": {},
   "source": [
    "# Visualize data\n",
    "We look at input data shape so that we can build NNs"
   ]
  },
  {
   "cell_type": "code",
   "execution_count": 82,
   "metadata": {
    "collapsed": false
   },
   "outputs": [
    {
     "name": "stdout",
     "output_type": "stream",
     "text": [
      "X_train         has shape: (49000, 3072)\n",
      "y_train         has shape: (49000,)\n",
      "mean_images     has shape: (3072,)\n",
      "X_val           has shape: (1000, 3072)\n",
      "y_val           has shape: (1000,)\n",
      "X_test          has shape: (10000, 3072)\n",
      "y_test          has shape: (10000,)\n"
     ]
    }
   ],
   "source": [
    "for k in data:\n",
    "    print ('{:<15s} has shape: {}'.format(k, data[k].shape))\n",
    "\n",
    "X_train     = data['X_train']  \n",
    "y_train     = data['y_train']\n",
    "mean_images = data['mean_images']\n",
    "\n",
    "X_val       = data['X_val']  \n",
    "y_val       = data['y_val']\n",
    "\n",
    "X_test      = data['X_test']\n",
    "y_test      = data['y_test']\n",
    "N = X_train.shape[0]"
   ]
  },
  {
   "cell_type": "markdown",
   "metadata": {},
   "source": [
    "The data is flatten image input which is already normalized (minus mean image). We can visualize a random image as following"
   ]
  },
  {
   "cell_type": "code",
   "execution_count": 84,
   "metadata": {
    "collapsed": false
   },
   "outputs": [
    {
     "data": {
      "image/png": "[encoded data removed]",
      "text/plain": [
       "<matplotlib.figure.Figure at 0x7f20cd77fac8>"
      ]
     },
     "metadata": {
      "image/png": {
       "height": 318,
       "width": 307
      }
     },
     "output_type": "display_data"
    }
   ],
   "source": [
    "idx = np.random.randint(N)\n",
    "show_img(X_train[idx] + mean_images, y_train[idx])"
   ]
  },
  {
   "cell_type": "markdown",
   "metadata": {},
   "source": [
    "## Build NNs\n",
    "To classify CIFAR-10, we try NNs with one hidden-layer with ReLU activation. We re-use the object **FullyConnectedNN** from previous notebook"
   ]
  },
  {
   "cell_type": "code",
   "execution_count": 96,
   "metadata": {
    "collapsed": false
   },
   "outputs": [],
   "source": [
    "from nn_fc_layers import FullyConnectedNN\n",
    "\n",
    "hidden_dims = [200]\n",
    "fcnn = FullyConnectedNN(hidden_dims, \n",
    "                        input_dim = X_train.shape[1], num_classes = 10, \n",
    "                        reg = 0.3, learning_rate = 1e-3, lr_decay = .95, weight_scale = 1e-3,\n",
    "                        act_fn = tf.nn.relu)"
   ]
  },
  {
   "cell_type": "markdown",
   "metadata": {},
   "source": [
    "## Train NNs\n",
    "We are ready to train our NNs on CIFAR-10"
   ]
  },
  {
   "cell_type": "code",
   "execution_count": 98,
   "metadata": {
    "collapsed": false
   },
   "outputs": [
    {
     "name": "stdout",
     "output_type": "stream",
     "text": [
      "    0 iter loss =     2.3673 acc = 14.40\n",
      "  200 iter loss =     1.7178 acc = 41.40\n",
      "  400 iter loss =     1.6220 acc = 45.30\n",
      "  600 iter loss =     1.5477 acc = 47.50\n",
      "  800 iter loss =     1.5216 acc = 49.70\n",
      " 1000 iter loss =     1.4782 acc = 49.40\n",
      " 1200 iter loss =     1.4873 acc = 49.50\n",
      " 1400 iter loss =     1.4642 acc = 51.70\n",
      " 1600 iter loss =     1.4317 acc = 52.60\n",
      " 1800 iter loss =     1.4677 acc = 50.40\n",
      " 2000 iter loss =     1.4498 acc = 51.40\n",
      " 2200 iter loss =     1.4545 acc = 51.90\n",
      " 2400 iter loss =     1.4351 acc = 51.40\n",
      " 2600 iter loss =     1.4599 acc = 51.90\n",
      " 2800 iter loss =     1.4587 acc = 52.20\n",
      " 3000 iter loss =     1.4262 acc = 54.00\n",
      " 3200 iter loss =     1.4459 acc = 51.60\n",
      " 3400 iter loss =     1.4514 acc = 51.90\n",
      " 3600 iter loss =     1.4390 acc = 53.90\n",
      " 3800 iter loss =     1.4408 acc = 53.60\n",
      " 3819 iter loss =     1.4518 acc = 52.80\n"
     ]
    }
   ],
   "source": [
    "batch_size = 256\n",
    "epochs = 20\n",
    "fitted_params = fcnn.train(X_train, y_train, batch_size, epochs, X_val, y_val, print_every=200)"
   ]
  },
  {
   "cell_type": "markdown",
   "metadata": {},
   "source": [
    "## NNs performance\n",
    "Let's measure the accuracy of our NNs on the test-dataset"
   ]
  },
  {
   "cell_type": "code",
   "execution_count": 99,
   "metadata": {
    "collapsed": false
   },
   "outputs": [
    {
     "name": "stdout",
     "output_type": "stream",
     "text": [
      "Prediction accuracy on test set = 52.76%\n"
     ]
    }
   ],
   "source": [
    "pred = fcnn.predict(fitted_params, X_test)\n",
    "print ('Prediction accuracy on test set = {:5.2f}%'.format(100 * np.mean(pred == y_test)))"
   ]
  },
  {
   "cell_type": "markdown",
   "metadata": {},
   "source": [
    "# Conclusion\n",
    "\n",
    "We can see that NNs outperform Linear classifier (Lc), it achives > 50% on test-set vs. 33% of Lc. This proves that NNs can capture non-linearity of our image which helps in classification. However accuracy of 50% is still pretty slow. We will soon see with CNNs, we can achive much higher accuracy."
   ]
  }
 ],
 "metadata": {
  "kernelspec": {
   "display_name": "Python 3",
   "language": "python",
   "name": "python3"
  },
  "language_info": {
   "codemirror_mode": {
    "name": "ipython",
    "version": 3
   },
   "file_extension": ".py",
   "mimetype": "text/x-python",
   "name": "python",
   "nbconvert_exporter": "python",
   "pygments_lexer": "ipython3",
   "version": "3.6.0"
  }
 },
 "nbformat": 4,
 "nbformat_minor": 2
}
